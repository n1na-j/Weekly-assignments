{
 "cells": [
  {
   "cell_type": "markdown",
   "metadata": {},
   "source": [
    "## 1. Data cleaning\n",
    "\n",
    "### Eurovision Song Contest data for one year (2015)"
   ]
  },
  {
   "cell_type": "code",
   "execution_count": 142,
   "metadata": {},
   "outputs": [],
   "source": [
    "# Import needed libraries\n",
    "import seaborn as sns #this is the plotting library I'll be using \n",
    "import sklearn as sk \n",
    "from sklearn.model_selection import train_test_split #We need this to split the data\n",
    "\n",
    "import pandas as pd #\"as pd\" means that we can use the abbreviation in commands\n",
    "import matplotlib.pyplot as plt\n",
    "import pandas as pd\n",
    "import json\n",
    "import math\n",
    "import numpy as np"
   ]
  },
  {
   "cell_type": "code",
   "execution_count": 143,
   "metadata": {},
   "outputs": [
    {
     "data": {
      "text/html": [
       "<div>\n",
       "<style scoped>\n",
       "    .dataframe tbody tr th:only-of-type {\n",
       "        vertical-align: middle;\n",
       "    }\n",
       "\n",
       "    .dataframe tbody tr th {\n",
       "        vertical-align: top;\n",
       "    }\n",
       "\n",
       "    .dataframe thead th {\n",
       "        text-align: right;\n",
       "    }\n",
       "</style>\n",
       "<table border=\"1\" class=\"dataframe\">\n",
       "  <thead>\n",
       "    <tr style=\"text-align: right;\">\n",
       "      <th></th>\n",
       "      <th>year</th>\n",
       "      <th>to_country_id</th>\n",
       "      <th>to_country</th>\n",
       "      <th>performer</th>\n",
       "      <th>song</th>\n",
       "      <th>place_contest</th>\n",
       "      <th>sf_num</th>\n",
       "      <th>running_final</th>\n",
       "      <th>running_sf</th>\n",
       "      <th>place_final</th>\n",
       "      <th>...</th>\n",
       "      <th>place_sf</th>\n",
       "      <th>points_sf</th>\n",
       "      <th>points_tele_final</th>\n",
       "      <th>points_jury_final</th>\n",
       "      <th>points_tele_sf</th>\n",
       "      <th>points_jury_sf</th>\n",
       "      <th>composers</th>\n",
       "      <th>lyricists</th>\n",
       "      <th>lyrics</th>\n",
       "      <th>youtube_url</th>\n",
       "    </tr>\n",
       "  </thead>\n",
       "  <tbody>\n",
       "    <tr>\n",
       "      <th>0</th>\n",
       "      <td>1956</td>\n",
       "      <td>ch</td>\n",
       "      <td>Switzerland</td>\n",
       "      <td>Lys Assia</td>\n",
       "      <td>Refrain</td>\n",
       "      <td>2.0</td>\n",
       "      <td>NaN</td>\n",
       "      <td>2.0</td>\n",
       "      <td>NaN</td>\n",
       "      <td>2.0</td>\n",
       "      <td>...</td>\n",
       "      <td>NaN</td>\n",
       "      <td>NaN</td>\n",
       "      <td>NaN</td>\n",
       "      <td>NaN</td>\n",
       "      <td>NaN</td>\n",
       "      <td>NaN</td>\n",
       "      <td>Georg Benz Stahl</td>\n",
       "      <td>NaN</td>\n",
       "      <td>(Refrain d'amour...)\\n\\nRefrain, couleur du ci...</td>\n",
       "      <td>https://youtube.com/watch?v=IyqIPvOkiRk</td>\n",
       "    </tr>\n",
       "    <tr>\n",
       "      <th>1</th>\n",
       "      <td>1956</td>\n",
       "      <td>nl</td>\n",
       "      <td>Netherlands</td>\n",
       "      <td>Jetty Paerl</td>\n",
       "      <td>De Vogels Van Holland</td>\n",
       "      <td>2.0</td>\n",
       "      <td>NaN</td>\n",
       "      <td>1.0</td>\n",
       "      <td>NaN</td>\n",
       "      <td>2.0</td>\n",
       "      <td>...</td>\n",
       "      <td>NaN</td>\n",
       "      <td>NaN</td>\n",
       "      <td>NaN</td>\n",
       "      <td>NaN</td>\n",
       "      <td>NaN</td>\n",
       "      <td>NaN</td>\n",
       "      <td>Cor Lemaire</td>\n",
       "      <td>Annie M. G. Schmidt</td>\n",
       "      <td>De vogels van Holland zijn zo muzikaal\\nZe ler...</td>\n",
       "      <td>https://youtube.com/watch?v=u45UQVGRVPA</td>\n",
       "    </tr>\n",
       "    <tr>\n",
       "      <th>2</th>\n",
       "      <td>1956</td>\n",
       "      <td>be</td>\n",
       "      <td>Belgium</td>\n",
       "      <td>Fud Leclerc</td>\n",
       "      <td>Messieurs Les Noyés De La Seine</td>\n",
       "      <td>2.0</td>\n",
       "      <td>NaN</td>\n",
       "      <td>3.0</td>\n",
       "      <td>NaN</td>\n",
       "      <td>2.0</td>\n",
       "      <td>...</td>\n",
       "      <td>NaN</td>\n",
       "      <td>NaN</td>\n",
       "      <td>NaN</td>\n",
       "      <td>NaN</td>\n",
       "      <td>NaN</td>\n",
       "      <td>NaN</td>\n",
       "      <td>Jacques Say;Jean Miret</td>\n",
       "      <td>Robert Montal</td>\n",
       "      <td>Messieurs les noyés de la Seine\\nOuvrez-moi le...</td>\n",
       "      <td>https://youtube.com/watch?v=U9O3sqlyra0</td>\n",
       "    </tr>\n",
       "    <tr>\n",
       "      <th>3</th>\n",
       "      <td>1956</td>\n",
       "      <td>de</td>\n",
       "      <td>Germany</td>\n",
       "      <td>Walter Andreas Schwarz</td>\n",
       "      <td>Im Wartesaal Zum Großen Glück</td>\n",
       "      <td>2.0</td>\n",
       "      <td>NaN</td>\n",
       "      <td>4.0</td>\n",
       "      <td>NaN</td>\n",
       "      <td>2.0</td>\n",
       "      <td>...</td>\n",
       "      <td>NaN</td>\n",
       "      <td>NaN</td>\n",
       "      <td>NaN</td>\n",
       "      <td>NaN</td>\n",
       "      <td>NaN</td>\n",
       "      <td>NaN</td>\n",
       "      <td>Walter Andreas Schwarz</td>\n",
       "      <td>NaN</td>\n",
       "      <td>Es gibt einen Hafen, da fährt kaum ein Schiff\\...</td>\n",
       "      <td>https://youtube.com/watch?v=BDNARIDnmTc</td>\n",
       "    </tr>\n",
       "    <tr>\n",
       "      <th>4</th>\n",
       "      <td>1956</td>\n",
       "      <td>fr</td>\n",
       "      <td>France</td>\n",
       "      <td>Mathé Altéry</td>\n",
       "      <td>Le Temps Perdu</td>\n",
       "      <td>2.0</td>\n",
       "      <td>NaN</td>\n",
       "      <td>5.0</td>\n",
       "      <td>NaN</td>\n",
       "      <td>2.0</td>\n",
       "      <td>...</td>\n",
       "      <td>NaN</td>\n",
       "      <td>NaN</td>\n",
       "      <td>NaN</td>\n",
       "      <td>NaN</td>\n",
       "      <td>NaN</td>\n",
       "      <td>NaN</td>\n",
       "      <td>André Lodge</td>\n",
       "      <td>Rachèle Thoreau</td>\n",
       "      <td>Chante, carillon\\nLe chant du temps perdu\\nCha...</td>\n",
       "      <td>https://youtube.com/watch?v=dm1L0XyikKI</td>\n",
       "    </tr>\n",
       "  </tbody>\n",
       "</table>\n",
       "<p>5 rows × 21 columns</p>\n",
       "</div>"
      ],
      "text/plain": [
       "   year to_country_id   to_country               performer  \\\n",
       "0  1956            ch  Switzerland               Lys Assia   \n",
       "1  1956            nl  Netherlands             Jetty Paerl   \n",
       "2  1956            be      Belgium             Fud Leclerc   \n",
       "3  1956            de      Germany  Walter Andreas Schwarz   \n",
       "4  1956            fr       France            Mathé Altéry   \n",
       "\n",
       "                              song  place_contest  sf_num  running_final  \\\n",
       "0                          Refrain            2.0     NaN            2.0   \n",
       "1            De Vogels Van Holland            2.0     NaN            1.0   \n",
       "2  Messieurs Les Noyés De La Seine            2.0     NaN            3.0   \n",
       "3    Im Wartesaal Zum Großen Glück            2.0     NaN            4.0   \n",
       "4                   Le Temps Perdu            2.0     NaN            5.0   \n",
       "\n",
       "   running_sf  place_final  ...  place_sf  points_sf  points_tele_final  \\\n",
       "0         NaN          2.0  ...       NaN        NaN                NaN   \n",
       "1         NaN          2.0  ...       NaN        NaN                NaN   \n",
       "2         NaN          2.0  ...       NaN        NaN                NaN   \n",
       "3         NaN          2.0  ...       NaN        NaN                NaN   \n",
       "4         NaN          2.0  ...       NaN        NaN                NaN   \n",
       "\n",
       "   points_jury_final  points_tele_sf  points_jury_sf               composers  \\\n",
       "0                NaN             NaN             NaN        Georg Benz Stahl   \n",
       "1                NaN             NaN             NaN             Cor Lemaire   \n",
       "2                NaN             NaN             NaN  Jacques Say;Jean Miret   \n",
       "3                NaN             NaN             NaN  Walter Andreas Schwarz   \n",
       "4                NaN             NaN             NaN             André Lodge   \n",
       "\n",
       "             lyricists                                             lyrics  \\\n",
       "0                  NaN  (Refrain d'amour...)\\n\\nRefrain, couleur du ci...   \n",
       "1  Annie M. G. Schmidt  De vogels van Holland zijn zo muzikaal\\nZe ler...   \n",
       "2        Robert Montal  Messieurs les noyés de la Seine\\nOuvrez-moi le...   \n",
       "3                  NaN  Es gibt einen Hafen, da fährt kaum ein Schiff\\...   \n",
       "4      Rachèle Thoreau  Chante, carillon\\nLe chant du temps perdu\\nCha...   \n",
       "\n",
       "                               youtube_url  \n",
       "0  https://youtube.com/watch?v=IyqIPvOkiRk  \n",
       "1  https://youtube.com/watch?v=u45UQVGRVPA  \n",
       "2  https://youtube.com/watch?v=U9O3sqlyra0  \n",
       "3  https://youtube.com/watch?v=BDNARIDnmTc  \n",
       "4  https://youtube.com/watch?v=dm1L0XyikKI  \n",
       "\n",
       "[5 rows x 21 columns]"
      ]
     },
     "execution_count": 143,
     "metadata": {},
     "output_type": "execute_result"
    }
   ],
   "source": [
    "df = pd.read_csv('contestants.csv')\n",
    "df.head()"
   ]
  },
  {
   "cell_type": "code",
   "execution_count": 144,
   "metadata": {},
   "outputs": [
    {
     "data": {
      "text/html": [
       "<div>\n",
       "<style scoped>\n",
       "    .dataframe tbody tr th:only-of-type {\n",
       "        vertical-align: middle;\n",
       "    }\n",
       "\n",
       "    .dataframe tbody tr th {\n",
       "        vertical-align: top;\n",
       "    }\n",
       "\n",
       "    .dataframe thead th {\n",
       "        text-align: right;\n",
       "    }\n",
       "</style>\n",
       "<table border=\"1\" class=\"dataframe\">\n",
       "  <thead>\n",
       "    <tr style=\"text-align: right;\">\n",
       "      <th></th>\n",
       "      <th>year</th>\n",
       "      <th>to_country</th>\n",
       "      <th>performer</th>\n",
       "      <th>song</th>\n",
       "      <th>place_final</th>\n",
       "    </tr>\n",
       "  </thead>\n",
       "  <tbody>\n",
       "    <tr>\n",
       "      <th>1354</th>\n",
       "      <td>2015</td>\n",
       "      <td>Sweden</td>\n",
       "      <td>Måns Zelmerlöw</td>\n",
       "      <td>Heroes</td>\n",
       "      <td>1.0</td>\n",
       "    </tr>\n",
       "    <tr>\n",
       "      <th>1355</th>\n",
       "      <td>2015</td>\n",
       "      <td>Russia</td>\n",
       "      <td>Polina Gagarina</td>\n",
       "      <td>A Million Voices</td>\n",
       "      <td>2.0</td>\n",
       "    </tr>\n",
       "    <tr>\n",
       "      <th>1356</th>\n",
       "      <td>2015</td>\n",
       "      <td>Italy</td>\n",
       "      <td>Il Volo</td>\n",
       "      <td>Grande Amore</td>\n",
       "      <td>3.0</td>\n",
       "    </tr>\n",
       "    <tr>\n",
       "      <th>1357</th>\n",
       "      <td>2015</td>\n",
       "      <td>Belgium</td>\n",
       "      <td>Loïc Nottet</td>\n",
       "      <td>Rhythm Inside</td>\n",
       "      <td>4.0</td>\n",
       "    </tr>\n",
       "    <tr>\n",
       "      <th>1358</th>\n",
       "      <td>2015</td>\n",
       "      <td>Australia</td>\n",
       "      <td>Guy Sebastian</td>\n",
       "      <td>Tonight Again</td>\n",
       "      <td>5.0</td>\n",
       "    </tr>\n",
       "  </tbody>\n",
       "</table>\n",
       "</div>"
      ],
      "text/plain": [
       "      year to_country        performer              song  place_final\n",
       "1354  2015     Sweden   Måns Zelmerlöw            Heroes          1.0\n",
       "1355  2015     Russia  Polina Gagarina  A Million Voices          2.0\n",
       "1356  2015      Italy          Il Volo      Grande Amore          3.0\n",
       "1357  2015    Belgium      Loïc Nottet     Rhythm Inside          4.0\n",
       "1358  2015  Australia    Guy Sebastian     Tonight Again          5.0"
      ]
     },
     "execution_count": 144,
     "metadata": {},
     "output_type": "execute_result"
    }
   ],
   "source": [
    "# Filter by year\n",
    "df_2015 = (df[df[\"year\"] == 2015])\n",
    "\n",
    "# Show only the columns which are necessary for the prediction\n",
    "df_2015 = df_2015[[\"year\", \"to_country\", \"performer\", \"song\", \"place_final\"]]\n",
    "\n",
    "\n",
    "# Sort final results\n",
    "df_2015.sort_values(by=['place_final'])\n",
    "df_2015.head()"
   ]
  },
  {
   "cell_type": "code",
   "execution_count": 145,
   "metadata": {},
   "outputs": [
    {
     "name": "stdout",
     "output_type": "stream",
     "text": [
      "      year      to_country                  performer  \\\n",
      "1354  2015          Sweden             Måns Zelmerlöw   \n",
      "1355  2015          Russia            Polina Gagarina   \n",
      "1356  2015           Italy                    Il Volo   \n",
      "1357  2015         Belgium                Loïc Nottet   \n",
      "1358  2015       Australia              Guy Sebastian   \n",
      "1359  2015          Latvia           Aminata Savadogo   \n",
      "1360  2015         Estonia    Elina Born & Stig Rästa   \n",
      "1361  2015          Norway  Mørland & Debrah Scarlett   \n",
      "1362  2015          Israel                Nadav Guedj   \n",
      "1363  2015          Serbia            Bojana Stamenov   \n",
      "1364  2015         Georgia              Nina Sublatti   \n",
      "1365  2015      Azerbaijan             Elnur Hüseynov   \n",
      "1366  2015      Montenegro                       Knez   \n",
      "1367  2015        Slovenia                    Maraaya   \n",
      "1368  2015         Romania                     Voltaj   \n",
      "1369  2015         Armenia                  Genealogy   \n",
      "1370  2015         Albania               Elhaida Dani   \n",
      "1371  2015       Lithuania            Monika & Vaidas   \n",
      "1372  2015          Greece       Maria Elena Kyriakou   \n",
      "1373  2015         Hungary                     Boggie   \n",
      "1374  2015           Spain                     Edurne   \n",
      "1375  2015          Cyprus           John Karayiannis   \n",
      "1376  2015          Poland           Monika Kuszyńska   \n",
      "1377  2015  United Kingdom             Electro Velvet   \n",
      "1378  2015          France                Lisa Angell   \n",
      "1379  2015         Austria              The Makemakes   \n",
      "1380  2015         Germany                 Ann Sophie   \n",
      "\n",
      "                              song  place_final  \n",
      "1354                        Heroes          1.0  \n",
      "1355              A Million Voices          2.0  \n",
      "1356                  Grande Amore          3.0  \n",
      "1357                 Rhythm Inside          4.0  \n",
      "1358                 Tonight Again          5.0  \n",
      "1359                 Love Injected          6.0  \n",
      "1360          Goodbye to Yesterday          7.0  \n",
      "1361             A Monster Like Me          8.0  \n",
      "1362                    Golden Boy          9.0  \n",
      "1363             Beauty Never Lies         10.0  \n",
      "1364                       Warrior         11.0  \n",
      "1365              Hour Of The Wolf         12.0  \n",
      "1366                          Adio         13.0  \n",
      "1367                  Here for You         14.0  \n",
      "1368  De La Capăt / All Over Again         15.0  \n",
      "1369               Face The Shadow         16.0  \n",
      "1370                     I'm Alive         17.0  \n",
      "1371                     This Time         18.0  \n",
      "1372               One Last Breath         19.0  \n",
      "1373              Wars For Nothing         20.0  \n",
      "1374                      Amanecer         21.0  \n",
      "1375  One Thing I Should Have Done         22.0  \n",
      "1376           In The Name Of Love         23.0  \n",
      "1377        Still in Love with You         24.0  \n",
      "1378                 N’oubliez pas         25.0  \n",
      "1379                    I Am Yours         26.0  \n",
      "1380                   Black Smoke         27.0  \n"
     ]
    }
   ],
   "source": [
    "# Show only place final and not the other countries with NaN values\n",
    "print(df_2015.iloc[0:27])"
   ]
  },
  {
   "cell_type": "markdown",
   "metadata": {},
   "source": [
    "### Odds Eurovision Song Contest 2015"
   ]
  },
  {
   "cell_type": "code",
   "execution_count": 146,
   "metadata": {},
   "outputs": [],
   "source": [
    "########## Get the odds"
   ]
  },
  {
   "cell_type": "code",
   "execution_count": 147,
   "metadata": {},
   "outputs": [],
   "source": [
    "# Import the json file with odds\n",
    "with open(\"esf_2015_concept_1.json\") as json_file:\n",
    "    esf_2015 = json.load(json_file)"
   ]
  },
  {
   "cell_type": "code",
   "execution_count": 148,
   "metadata": {},
   "outputs": [],
   "source": [
    "# Create a df \n",
    "df_esf_2015 = pd.DataFrame(esf_2015)"
   ]
  },
  {
   "cell_type": "code",
   "execution_count": 149,
   "metadata": {},
   "outputs": [],
   "source": [
    "# Skip the first 2 rows\n",
    "df_esf_2015 = df_esf_2015.drop([0, 1])"
   ]
  },
  {
   "cell_type": "code",
   "execution_count": 150,
   "metadata": {},
   "outputs": [],
   "source": [
    "# Create a copy of the original df\n",
    "df_new_esf_2015 = df_esf_2015"
   ]
  },
  {
   "cell_type": "code",
   "execution_count": 151,
   "metadata": {},
   "outputs": [],
   "source": [
    "# Create new column for position \n",
    "df_new_esf_2015['position'] = df_new_esf_2015['contestant'].str[0]"
   ]
  },
  {
   "cell_type": "code",
   "execution_count": 152,
   "metadata": {},
   "outputs": [],
   "source": [
    "# Create new column for finale contestants\n",
    "df_new_esf_2015['Final contestants'] = df_new_esf_2015['contestant'].str[1]"
   ]
  },
  {
   "cell_type": "code",
   "execution_count": 153,
   "metadata": {},
   "outputs": [
    {
     "data": {
      "text/html": [
       "<div>\n",
       "<style scoped>\n",
       "    .dataframe tbody tr th:only-of-type {\n",
       "        vertical-align: middle;\n",
       "    }\n",
       "\n",
       "    .dataframe tbody tr th {\n",
       "        vertical-align: top;\n",
       "    }\n",
       "\n",
       "    .dataframe thead th {\n",
       "        text-align: right;\n",
       "    }\n",
       "</style>\n",
       "<table border=\"1\" class=\"dataframe\">\n",
       "  <thead>\n",
       "    <tr style=\"text-align: right;\">\n",
       "      <th></th>\n",
       "      <th>position</th>\n",
       "      <th>Final contestants</th>\n",
       "      <th>BET365</th>\n",
       "      <th>UNIBET</th>\n",
       "      <th>YOU WIN</th>\n",
       "      <th>BOYLE SPORTS</th>\n",
       "      <th>CORAL</th>\n",
       "      <th>SKY BET</th>\n",
       "      <th>BET VICTOR</th>\n",
       "      <th>TITAN BET</th>\n",
       "      <th>...</th>\n",
       "      <th>BETFAIR SPORT</th>\n",
       "      <th>SPORTING BET</th>\n",
       "      <th>INTERTOPS</th>\n",
       "      <th>PADDY POWER</th>\n",
       "      <th>BET FRED</th>\n",
       "      <th>BETWAY</th>\n",
       "      <th>STAN JAMES</th>\n",
       "      <th>BWIN</th>\n",
       "      <th>MATCHBOOK</th>\n",
       "      <th>BETFAIR* EXCHANGE</th>\n",
       "    </tr>\n",
       "  </thead>\n",
       "  <tbody>\n",
       "    <tr>\n",
       "      <th>2</th>\n",
       "      <td>1</td>\n",
       "      <td>Sweden Måns Zelmerlöw - Heroes</td>\n",
       "      <td>2.1</td>\n",
       "      <td>2</td>\n",
       "      <td>2.38</td>\n",
       "      <td>2.25</td>\n",
       "      <td>2.1</td>\n",
       "      <td>2.1</td>\n",
       "      <td>2.1</td>\n",
       "      <td>2.1</td>\n",
       "      <td>...</td>\n",
       "      <td>2.1</td>\n",
       "      <td>2</td>\n",
       "      <td>2.25</td>\n",
       "      <td>2</td>\n",
       "      <td>2</td>\n",
       "      <td>2.1</td>\n",
       "      <td>2.25</td>\n",
       "      <td>1</td>\n",
       "      <td>2.21</td>\n",
       "      <td>2.2</td>\n",
       "    </tr>\n",
       "    <tr>\n",
       "      <th>3</th>\n",
       "      <td>2</td>\n",
       "      <td>Russia Polina Gagarina - A Million Voices</td>\n",
       "      <td>3.75</td>\n",
       "      <td>4.5</td>\n",
       "      <td>4</td>\n",
       "      <td>3.75</td>\n",
       "      <td>4.5</td>\n",
       "      <td>3.75</td>\n",
       "      <td>4</td>\n",
       "      <td>4</td>\n",
       "      <td>...</td>\n",
       "      <td>4</td>\n",
       "      <td>4</td>\n",
       "      <td>4</td>\n",
       "      <td>4</td>\n",
       "      <td>4.5</td>\n",
       "      <td>4</td>\n",
       "      <td>3.5</td>\n",
       "      <td>4.75</td>\n",
       "      <td>5.16</td>\n",
       "      <td>4.99</td>\n",
       "    </tr>\n",
       "    <tr>\n",
       "      <th>4</th>\n",
       "      <td>3</td>\n",
       "      <td>Italy Il Volo - Grande Amore</td>\n",
       "      <td>5</td>\n",
       "      <td>6</td>\n",
       "      <td>5</td>\n",
       "      <td>5</td>\n",
       "      <td>5.5</td>\n",
       "      <td>5.5</td>\n",
       "      <td>6</td>\n",
       "      <td>5.5</td>\n",
       "      <td>...</td>\n",
       "      <td>6</td>\n",
       "      <td>5</td>\n",
       "      <td>4.25</td>\n",
       "      <td>5.5</td>\n",
       "      <td>6.5</td>\n",
       "      <td>4.5</td>\n",
       "      <td>4.5</td>\n",
       "      <td>5</td>\n",
       "      <td>6.74</td>\n",
       "      <td>6.51</td>\n",
       "    </tr>\n",
       "    <tr>\n",
       "      <th>5</th>\n",
       "      <td>4</td>\n",
       "      <td>Belgium Loïc Nottet - Rhythm Inside</td>\n",
       "      <td>11</td>\n",
       "      <td>12</td>\n",
       "      <td>9</td>\n",
       "      <td>12</td>\n",
       "      <td>9</td>\n",
       "      <td>10</td>\n",
       "      <td>12</td>\n",
       "      <td>10</td>\n",
       "      <td>...</td>\n",
       "      <td>8</td>\n",
       "      <td>11</td>\n",
       "      <td>7</td>\n",
       "      <td>9</td>\n",
       "      <td>13</td>\n",
       "      <td>8</td>\n",
       "      <td>5</td>\n",
       "      <td>15</td>\n",
       "      <td>18</td>\n",
       "      <td>18</td>\n",
       "    </tr>\n",
       "    <tr>\n",
       "      <th>6</th>\n",
       "      <td>5</td>\n",
       "      <td>Australia Guy Sebastian - Tonight Again</td>\n",
       "      <td>11</td>\n",
       "      <td>12</td>\n",
       "      <td>9</td>\n",
       "      <td>11</td>\n",
       "      <td>10</td>\n",
       "      <td>11</td>\n",
       "      <td>13</td>\n",
       "      <td>10</td>\n",
       "      <td>...</td>\n",
       "      <td>11</td>\n",
       "      <td>11</td>\n",
       "      <td>9</td>\n",
       "      <td>10</td>\n",
       "      <td>13</td>\n",
       "      <td>11</td>\n",
       "      <td>9</td>\n",
       "      <td>13</td>\n",
       "      <td>16</td>\n",
       "      <td>17</td>\n",
       "    </tr>\n",
       "  </tbody>\n",
       "</table>\n",
       "<p>5 rows × 21 columns</p>\n",
       "</div>"
      ],
      "text/plain": [
       "  position                          Final contestants BET365 UNIBET YOU WIN  \\\n",
       "2        1             Sweden Måns Zelmerlöw - Heroes    2.1      2    2.38   \n",
       "3        2  Russia Polina Gagarina - A Million Voices   3.75    4.5       4   \n",
       "4        3               Italy Il Volo - Grande Amore      5      6       5   \n",
       "5        4        Belgium Loïc Nottet - Rhythm Inside     11     12       9   \n",
       "6        5    Australia Guy Sebastian - Tonight Again     11     12       9   \n",
       "\n",
       "  BOYLE SPORTS CORAL SKY BET BET VICTOR TITAN BET  ... BETFAIR SPORT  \\\n",
       "2         2.25   2.1     2.1        2.1       2.1  ...           2.1   \n",
       "3         3.75   4.5    3.75          4         4  ...             4   \n",
       "4            5   5.5     5.5          6       5.5  ...             6   \n",
       "5           12     9      10         12        10  ...             8   \n",
       "6           11    10      11         13        10  ...            11   \n",
       "\n",
       "  SPORTING BET INTERTOPS PADDY POWER BET FRED BETWAY STAN JAMES  BWIN  \\\n",
       "2            2      2.25           2        2    2.1       2.25     1   \n",
       "3            4         4           4      4.5      4        3.5  4.75   \n",
       "4            5      4.25         5.5      6.5    4.5        4.5     5   \n",
       "5           11         7           9       13      8          5    15   \n",
       "6           11         9          10       13     11          9    13   \n",
       "\n",
       "  MATCHBOOK BETFAIR* EXCHANGE  \n",
       "2      2.21               2.2  \n",
       "3      5.16              4.99  \n",
       "4      6.74              6.51  \n",
       "5        18                18  \n",
       "6        16                17  \n",
       "\n",
       "[5 rows x 21 columns]"
      ]
     },
     "execution_count": 153,
     "metadata": {},
     "output_type": "execute_result"
    }
   ],
   "source": [
    "# Create new columns per odd\n",
    "df_new_esf_2015['BET365'] = df_new_esf_2015['contestant'].str[2]\n",
    "df_new_esf_2015['UNIBET'] = df_new_esf_2015['contestant'].str[3]\n",
    "df_new_esf_2015['YOU WIN'] = df_new_esf_2015['contestant'].str[4]\n",
    "df_new_esf_2015['BOYLE SPORTS'] = df_new_esf_2015['contestant'].str[5]\n",
    "df_new_esf_2015['CORAL'] = df_new_esf_2015['contestant'].str[6]\n",
    "df_new_esf_2015['SKY BET'] = df_new_esf_2015['contestant'].str[7]\n",
    "df_new_esf_2015['BET VICTOR'] = df_new_esf_2015['contestant'].str[8]\n",
    "df_new_esf_2015['TITAN BET'] = df_new_esf_2015['contestant'].str[9]\n",
    "df_new_esf_2015['PAF'] = df_new_esf_2015['contestant'].str[10]\n",
    "df_new_esf_2015['BETFAIR SPORT'] = df_new_esf_2015['contestant'].str[11]\n",
    "df_new_esf_2015['SPORTING BET'] = df_new_esf_2015['contestant'].str[12]\n",
    "df_new_esf_2015['INTERTOPS'] = df_new_esf_2015['contestant'].str[13]\n",
    "df_new_esf_2015['PADDY POWER'] = df_new_esf_2015['contestant'].str[14]\n",
    "df_new_esf_2015['BET FRED'] = df_new_esf_2015['contestant'].str[15]\n",
    "df_new_esf_2015['BETWAY'] = df_new_esf_2015['contestant'].str[16]\n",
    "df_new_esf_2015['STAN JAMES'] = df_new_esf_2015['contestant'].str[17]\n",
    "df_new_esf_2015['BWIN'] = df_new_esf_2015['contestant'].str[18]\n",
    "df_new_esf_2015['MATCHBOOK'] = df_new_esf_2015['contestant'].str[19]\n",
    "df_new_esf_2015['BETFAIR* EXCHANGE'] = df_new_esf_2015['contestant'].str[20]\n",
    "\n",
    "# Delete original column with contestant odd information\n",
    "del df_new_esf_2015['contestant']\n",
    "df_new_esf_2015.reset_index()\n",
    "\n",
    "df_new_esf_2015.head()"
   ]
  },
  {
   "cell_type": "code",
   "execution_count": 154,
   "metadata": {},
   "outputs": [
    {
     "name": "stdout",
     "output_type": "stream",
     "text": [
      "2         Sweden\n",
      "3         Russia\n",
      "4          Italy\n",
      "5        Belgium\n",
      "6      Australia\n",
      "7        Estonia\n",
      "8         Serbia\n",
      "9         Norway\n",
      "10        Latvia\n",
      "11        Israel\n",
      "12    Azerbaijan\n",
      "13         Spain\n",
      "14      Slovenia\n",
      "15       Georgia\n",
      "16        United\n",
      "17        Greece\n",
      "18       Romania\n",
      "19       Armenia\n",
      "20       Albania\n",
      "21        Cyprus\n",
      "22       Hungary\n",
      "23        France\n",
      "24     Lithuania\n",
      "25        Poland\n",
      "26       Austria\n",
      "27    Montenegro\n",
      "28       Germany\n",
      "Name: Country, dtype: object\n"
     ]
    }
   ],
   "source": [
    "# Create a column with the countries\n",
    "df_new_esf_2015['Country'] = df_new_esf_2015['Final contestants'].str.split().str.get(0)\n",
    "print(df_new_esf_2015['Country'])\n",
    "\n"
   ]
  },
  {
   "cell_type": "markdown",
   "metadata": {},
   "source": [
    "### The countries with all  its odds"
   ]
  },
  {
   "cell_type": "code",
   "execution_count": 155,
   "metadata": {},
   "outputs": [
    {
     "name": "stdout",
     "output_type": "stream",
     "text": [
      "       Country BET365 UNIBET YOU WIN BOYLE SPORTS CORAL SKY BET BET VICTOR  \\\n",
      "2       Sweden    2.1      2    2.38         2.25   2.1     2.1        2.1   \n",
      "3       Russia   3.75    4.5       4         3.75   4.5    3.75          4   \n",
      "4        Italy      5      6       5            5   5.5     5.5          6   \n",
      "5      Belgium     11     12       9           12     9      10         12   \n",
      "6    Australia     11     12       9           11    10      11         13   \n",
      "7      Estonia     19     24      34           23    21      21         19   \n",
      "8       Serbia     34     30      41           26    26      34         34   \n",
      "9       Norway     34     30      41           34    41      41         41   \n",
      "10      Latvia     41     51      34           41    51      41         41   \n",
      "11      Israel     67     51      67           81    41      67         46   \n",
      "12  Azerbaijan     67     34      67           41    67      51         67   \n",
      "13       Spain     81     34      81           51    67      81         67   \n",
      "14    Slovenia     81     51      81           67    81      67         67   \n",
      "15     Georgia    101     81     151           67   101     101        101   \n",
      "16      United    151    101     151          126    41     126         81   \n",
      "17      Greece    151     81     126          101   126     101        126   \n",
      "18     Romania    151    126     151          101   151     101        101   \n",
      "19     Armenia    151    101     151          176   151     151        151   \n",
      "20     Albania    151    101     126          126   101     151        101   \n",
      "21      Cyprus    151    126     151          101   151     126        126   \n",
      "22     Hungary    151    101     126          126   126     126        151   \n",
      "23      France    151    126     126          176   151     126        126   \n",
      "24   Lithuania    201    151     201          151   201     151        151   \n",
      "25      Poland    251    251     251          151   251     201        151   \n",
      "26     Austria    251    201     251          151   251     151        126   \n",
      "27  Montenegro    201    101     251          151   251     251        201   \n",
      "28     Germany    251    201     201          201   251     201        251   \n",
      "\n",
      "   TITAN BET   PAF BETFAIR SPORT SPORTING BET INTERTOPS PADDY POWER BET FRED  \\\n",
      "2        2.1  2.25           2.1            2      2.25           2        2   \n",
      "3          4   3.5             4            4         4           4      4.5   \n",
      "4        5.5     5             6            5      4.25         5.5      6.5   \n",
      "5         10   7.5             8           11         7           9       13   \n",
      "6         10    10            11           11         9          10       13   \n",
      "7         21    29            17           21        23          17       26   \n",
      "8         29    29            26           34        29          26       41   \n",
      "9         41    26            41           41        29          29       51   \n",
      "10        34    51            51           41        34          41       67   \n",
      "11        51    51            29           67        51          41       67   \n",
      "12        67    34            67           41        51          51       67   \n",
      "13        67    34            81           67        51          81       67   \n",
      "14        81    51            81           67        51          67       67   \n",
      "15        81    81            81          101        81          67      101   \n",
      "16        81   101            81           81        81          41      101   \n",
      "17       126    81           101          101       101          81      101   \n",
      "18       126   126           101          101       126         101      101   \n",
      "19       151   101           101          101       126         101      101   \n",
      "20       126   101           101          101       101         101      101   \n",
      "21       126   126           126          101       101         101      101   \n",
      "22       126   101           101          101       101         101      101   \n",
      "23       126   126           101          101       126         151      101   \n",
      "24       151   151           101          101       126         101      101   \n",
      "25       151   251           126          201       151         101      101   \n",
      "26       151   201           101          151       151         151      101   \n",
      "27       126   101           126          201       151         151      101   \n",
      "28       151   201           151          151       151         201      101   \n",
      "\n",
      "   BETWAY STAN JAMES  BWIN MATCHBOOK BETFAIR* EXCHANGE  \n",
      "2     2.1       2.25     1      2.21               2.2  \n",
      "3       4        3.5  4.75      5.16              4.99  \n",
      "4     4.5        4.5     5      6.74              6.51  \n",
      "5       8          5    15        18                18  \n",
      "6      11          9    13        16                17  \n",
      "7      26         15    21        27                27  \n",
      "8      34         21    26        51                52  \n",
      "9      34         34              70                62  \n",
      "10     34         34             150               143  \n",
      "11     51         41    34                         133  \n",
      "12     51         41    51       100               105  \n",
      "13     67         51    51                         181  \n",
      "14     67         51    67       199               200  \n",
      "15     81         51    67       199               285  \n",
      "16    101         67   101       298               304  \n",
      "17    101        101   101                         703  \n",
      "18    126        101   101                         789  \n",
      "19    126        126   101       199               228  \n",
      "20    101        101   101       496               950  \n",
      "21    101        101   101       496               713  \n",
      "22    126         81   201       496               589  \n",
      "23    126        101   201       496               694  \n",
      "24    126        101   101       496               950  \n",
      "25    151        151   101                         903  \n",
      "26    151        101   101       496               950  \n",
      "27    151        176   101       496               950  \n",
      "28    151        126             496               950  \n"
     ]
    }
   ],
   "source": [
    "# Create a new df with countries and odds\n",
    "df_odds_country  = pd.concat([df_new_esf_2015['Country'], df_new_esf_2015.iloc[:,2:21]], axis=1) \n",
    "print(df_odds_country)"
   ]
  },
  {
   "cell_type": "code",
   "execution_count": 156,
   "metadata": {},
   "outputs": [
    {
     "name": "stdout",
     "output_type": "stream",
     "text": [
      "2       2.078421\n",
      "3       4.139474\n",
      "4       5.421053\n",
      "5      10.763158\n",
      "6      11.421053\n",
      "7      22.684211\n",
      "8      32.789474\n",
      "9      40.000000\n",
      "10     54.444444\n",
      "11     57.555556\n",
      "12     58.947368\n",
      "13     70.000000\n",
      "14     81.263158\n",
      "15    104.157895\n",
      "16    116.578947\n",
      "17    139.444444\n",
      "18    154.500000\n",
      "19    136.526316\n",
      "20    175.684211\n",
      "21    169.789474\n",
      "22    164.842105\n",
      "23    180.631579\n",
      "24    200.684211\n",
      "25    216.388889\n",
      "26    220.421053\n",
      "27    223.052632\n",
      "28    243.722222\n",
      "Name: Mean odds, dtype: float64\n"
     ]
    }
   ],
   "source": [
    "# Get the mean of the odds per row. Select the columns for calculating the mean \n",
    "df_odd_mean = df_new_esf_2015.iloc[:,2:21]\n",
    "df_odd_mean['Mean odds'] = pd.DataFrame({col : pd.to_numeric(df_odd_mean[col]) for col in df_odd_mean.columns}).mean(axis=1)\n",
    "\n",
    "# Show the mean of the odds\n",
    "print(df_odd_mean['Mean odds'])"
   ]
  },
  {
   "cell_type": "markdown",
   "metadata": {},
   "source": [
    "### The mean of the odds per country"
   ]
  },
  {
   "cell_type": "code",
   "execution_count": 157,
   "metadata": {},
   "outputs": [
    {
     "name": "stdout",
     "output_type": "stream",
     "text": [
      "       Country   Mean odds\n",
      "2       Sweden    2.078421\n",
      "3       Russia    4.139474\n",
      "4        Italy    5.421053\n",
      "5      Belgium   10.763158\n",
      "6    Australia   11.421053\n",
      "7      Estonia   22.684211\n",
      "8       Serbia   32.789474\n",
      "9       Norway   40.000000\n",
      "10      Latvia   54.444444\n",
      "11      Israel   57.555556\n",
      "12  Azerbaijan   58.947368\n",
      "13       Spain   70.000000\n",
      "14    Slovenia   81.263158\n",
      "15     Georgia  104.157895\n",
      "16      United  116.578947\n",
      "17      Greece  139.444444\n",
      "18     Romania  154.500000\n",
      "19     Armenia  136.526316\n",
      "20     Albania  175.684211\n",
      "21      Cyprus  169.789474\n",
      "22     Hungary  164.842105\n",
      "23      France  180.631579\n",
      "24   Lithuania  200.684211\n",
      "25      Poland  216.388889\n",
      "26     Austria  220.421053\n",
      "27  Montenegro  223.052632\n",
      "28     Germany  243.722222\n"
     ]
    }
   ],
   "source": [
    "# Create a new df with countries and the mean odds\n",
    "df_odds_country_mean  = pd.concat([df_new_esf_2015['Country'], df_odd_mean['Mean odds']], axis=1) \n",
    "print(df_odds_country_mean)"
   ]
  },
  {
   "cell_type": "code",
   "execution_count": 158,
   "metadata": {},
   "outputs": [
    {
     "data": {
      "image/png": "[encoded data removed]",
      "text/plain": [
       "<Figure size 360x360 with 1 Axes>"
      ]
     },
     "metadata": {},
     "output_type": "display_data"
    }
   ],
   "source": [
    "# Create a svarn plot for the mean odds per country\n",
    "svarn = sns.catplot(data = df_odds_country_mean, x = \"Country\", y = \"Mean odds\", kind = \"swarm\") \n",
    "plt.xlabel(\"Country\") \n",
    "plt.ylabel(\"Mean odds\")\n",
    "plt.title(\"Mean odds per country\")\n",
    "plt.subplots_adjust(left=0.0, right=1.0, bottom=0.0, top=1.0)\n",
    "svarn.set_xticklabels(rotation=90)\n",
    "sns.set_style(\"darkgrid\")"
   ]
  },
  {
   "cell_type": "code",
   "execution_count": 159,
   "metadata": {},
   "outputs": [],
   "source": [
    "# Create a svarn plot for the final position per country\n",
    "# svarn_result = sns.catplot(data= df_2015, x = \"to_country\", y = \"place_final\", kind = \"swarm\") \n",
    "# plt.xlabel(\"Country\") \n",
    "# plt.ylabel(\"Positiion\")\n",
    "# plt.title(\"Final position per country\")\n",
    "# plt.subplots_adjust(left=0.0, right=1.0, bottom=0.0, top=1.0)\n",
    "# svarn_result.set_xticklabels(rotation=90)\n",
    "# sns.set_style(\"darkgrid\")"
   ]
  },
  {
   "cell_type": "markdown",
   "metadata": {},
   "source": [
    "### Final dataset"
   ]
  },
  {
   "cell_type": "code",
   "execution_count": 346,
   "metadata": {},
   "outputs": [
    {
     "name": "stdout",
     "output_type": "stream",
     "text": [
      "BET365               float64\n",
      "UNIBET               float64\n",
      "YOU WIN              float64\n",
      "BOYLE SPORTS         float64\n",
      "CORAL                float64\n",
      "SKY BET              float64\n",
      "BET VICTOR           float64\n",
      "TITAN BET            float64\n",
      "PAF                  float64\n",
      "BETFAIR SPORT        float64\n",
      "SPORTING BET         float64\n",
      "INTERTOPS            float64\n",
      "PADDY POWER          float64\n",
      "BET FRED             float64\n",
      "BETWAY               float64\n",
      "STAN JAMES           float64\n",
      "BWIN                 float64\n",
      "MATCHBOOK            float64\n",
      "BETFAIR* EXCHANGE    float64\n",
      "dtype: object\n"
     ]
    }
   ],
   "source": [
    "# Positions and countries\n",
    "df = df_2015.iloc[0:27] # Select 27 final positions\n",
    "df = df.reset_index() # Reset the index so the index is the same as the one from the other dataet\n",
    "del df['index']\n",
    "\n",
    "df = df[['to_country', 'place_final']]\n",
    "\n",
    "# Odds\n",
    "df_2 = df_new_esf_2015.iloc[:,2:21] # Select all odds for 27 countries from the finals\n",
    "df_2 = df_2.reset_index() # Reset the index so the index is the same as the one from the other dataet\n",
    "del df_2['index']\n",
    "\n",
    "df_2 = df_2.iloc[:, 0:20]\n",
    "\n",
    "# Transform empty values \n",
    "# df_2  = df_2.replace('', np.nan, regex=True)\n",
    "df_2  = df_2.replace('', np.nan_to_num(0), regex=True)\n",
    "\n",
    "# As float\n",
    "df_2.iloc[:, 0:20] = df_2.iloc[:, 0:20].astype(float)\n",
    "\n",
    "print(df_2.dtypes)"
   ]
  },
  {
   "cell_type": "markdown",
   "metadata": {},
   "source": [
    "## 2. Train the model"
   ]
  },
  {
   "cell_type": "code",
   "execution_count": 347,
   "metadata": {},
   "outputs": [],
   "source": [
    "# Numerieke oplossing, # percentiel \n",
    "# [10:52] Jonas Moons\n",
    "# ordinal variable\n",
    "\n",
    "# [10:53] Jonas Moons\n",
    "# 10/20\n",
    "\n",
    "# [10:53] Jonas Moons\n",
    "# 20/40\n",
    "\n",
    "# [10:53] Jonas Moons\n",
    "# percentielscore\n",
    "\n",
    "\n",
    "# Geen lineare regressie\n",
    "\n",
    "# Classificatie variant \n",
    "# Welk algorithme doet het het beste? Uitzoeken\n",
    "# RandomForestRegressor\n",
    "\n",
    "# (1. Optimalisatie: log(odds))\n",
    "\n",
    "# 1.probeer verschillende algorithmes. \n",
    "\n",
    "\n",
    "# [10:52] Jonas Moons\n",
    "#     ordinal variable\n",
    "# ​[10:53] Jonas Moons\n",
    "#     10/20\n",
    "# ​[10:53] Jonas Moons\n",
    "#     20/40\n",
    "# ​[10:53] Jonas Moons\n",
    "#     percentielscore\n",
    "# ​[10:54] Jonas Moons\n",
    "#     classificatie: categorie voorspellen\n",
    "# ​[10:54] Jonas Moons\n",
    "#     regressie: getal voorspellen\n",
    "# ​[10:54] Jonas Moons\n",
    "#     import RandomForestRegressor\n",
    "# ​[10:56] Jonas Moons\n",
    "#     bookies = 400\n",
    "# ​[10:57] Jonas Moons\n",
    "#     log(bookies) = 3 bv\n"
   ]
  },
  {
   "cell_type": "markdown",
   "metadata": {},
   "source": [
    "### Split the data"
   ]
  },
  {
   "cell_type": "code",
   "execution_count": 348,
   "metadata": {},
   "outputs": [],
   "source": [
    "# Define X and y variables\n",
    "X = df_2.iloc[:, 0:20]\n",
    "y = df['place_final']\n"
   ]
  },
  {
   "cell_type": "code",
   "execution_count": 349,
   "metadata": {},
   "outputs": [
    {
     "name": "stdout",
     "output_type": "stream",
     "text": [
      "    BET365  UNIBET  YOU WIN  BOYLE SPORTS  CORAL  SKY BET  BET VICTOR  \\\n",
      "0     2.10     2.0     2.38          2.25    2.1     2.10         2.1   \n",
      "1     3.75     4.5     4.00          3.75    4.5     3.75         4.0   \n",
      "2     5.00     6.0     5.00          5.00    5.5     5.50         6.0   \n",
      "3    11.00    12.0     9.00         12.00    9.0    10.00        12.0   \n",
      "4    11.00    12.0     9.00         11.00   10.0    11.00        13.0   \n",
      "5    19.00    24.0    34.00         23.00   21.0    21.00        19.0   \n",
      "6    34.00    30.0    41.00         26.00   26.0    34.00        34.0   \n",
      "7    34.00    30.0    41.00         34.00   41.0    41.00        41.0   \n",
      "8    41.00    51.0    34.00         41.00   51.0    41.00        41.0   \n",
      "9    67.00    51.0    67.00         81.00   41.0    67.00        46.0   \n",
      "10   67.00    34.0    67.00         41.00   67.0    51.00        67.0   \n",
      "11   81.00    34.0    81.00         51.00   67.0    81.00        67.0   \n",
      "12   81.00    51.0    81.00         67.00   81.0    67.00        67.0   \n",
      "13  101.00    81.0   151.00         67.00  101.0   101.00       101.0   \n",
      "14  151.00   101.0   151.00        126.00   41.0   126.00        81.0   \n",
      "15  151.00    81.0   126.00        101.00  126.0   101.00       126.0   \n",
      "16  151.00   126.0   151.00        101.00  151.0   101.00       101.0   \n",
      "17  151.00   101.0   151.00        176.00  151.0   151.00       151.0   \n",
      "18  151.00   101.0   126.00        126.00  101.0   151.00       101.0   \n",
      "19  151.00   126.0   151.00        101.00  151.0   126.00       126.0   \n",
      "20  151.00   101.0   126.00        126.00  126.0   126.00       151.0   \n",
      "21  151.00   126.0   126.00        176.00  151.0   126.00       126.0   \n",
      "22  201.00   151.0   201.00        151.00  201.0   151.00       151.0   \n",
      "23  251.00   251.0   251.00        151.00  251.0   201.00       151.0   \n",
      "24  251.00   201.0   251.00        151.00  251.0   151.00       126.0   \n",
      "25  201.00   101.0   251.00        151.00  251.0   251.00       201.0   \n",
      "26  251.00   201.0   201.00        201.00  251.0   201.00       251.0   \n",
      "\n",
      "    TITAN BET     PAF  BETFAIR SPORT  SPORTING BET  INTERTOPS  PADDY POWER  \\\n",
      "0         2.1    2.25            2.1           2.0       2.25          2.0   \n",
      "1         4.0    3.50            4.0           4.0       4.00          4.0   \n",
      "2         5.5    5.00            6.0           5.0       4.25          5.5   \n",
      "3        10.0    7.50            8.0          11.0       7.00          9.0   \n",
      "4        10.0   10.00           11.0          11.0       9.00         10.0   \n",
      "5        21.0   29.00           17.0          21.0      23.00         17.0   \n",
      "6        29.0   29.00           26.0          34.0      29.00         26.0   \n",
      "7        41.0   26.00           41.0          41.0      29.00         29.0   \n",
      "8        34.0   51.00           51.0          41.0      34.00         41.0   \n",
      "9        51.0   51.00           29.0          67.0      51.00         41.0   \n",
      "10       67.0   34.00           67.0          41.0      51.00         51.0   \n",
      "11       67.0   34.00           81.0          67.0      51.00         81.0   \n",
      "12       81.0   51.00           81.0          67.0      51.00         67.0   \n",
      "13       81.0   81.00           81.0         101.0      81.00         67.0   \n",
      "14       81.0  101.00           81.0          81.0      81.00         41.0   \n",
      "15      126.0   81.00          101.0         101.0     101.00         81.0   \n",
      "16      126.0  126.00          101.0         101.0     126.00        101.0   \n",
      "17      151.0  101.00          101.0         101.0     126.00        101.0   \n",
      "18      126.0  101.00          101.0         101.0     101.00        101.0   \n",
      "19      126.0  126.00          126.0         101.0     101.00        101.0   \n",
      "20      126.0  101.00          101.0         101.0     101.00        101.0   \n",
      "21      126.0  126.00          101.0         101.0     126.00        151.0   \n",
      "22      151.0  151.00          101.0         101.0     126.00        101.0   \n",
      "23      151.0  251.00          126.0         201.0     151.00        101.0   \n",
      "24      151.0  201.00          101.0         151.0     151.00        151.0   \n",
      "25      126.0  101.00          126.0         201.0     151.00        151.0   \n",
      "26      151.0  201.00          151.0         151.0     151.00        201.0   \n",
      "\n",
      "    BET FRED  BETWAY  STAN JAMES    BWIN  MATCHBOOK  BETFAIR* EXCHANGE  \n",
      "0        2.0     2.1        2.25    1.00       2.21               2.20  \n",
      "1        4.5     4.0        3.50    4.75       5.16               4.99  \n",
      "2        6.5     4.5        4.50    5.00       6.74               6.51  \n",
      "3       13.0     8.0        5.00   15.00      18.00              18.00  \n",
      "4       13.0    11.0        9.00   13.00      16.00              17.00  \n",
      "5       26.0    26.0       15.00   21.00      27.00              27.00  \n",
      "6       41.0    34.0       21.00   26.00      51.00              52.00  \n",
      "7       51.0    34.0       34.00    0.00      70.00              62.00  \n",
      "8       67.0    34.0       34.00    0.00     150.00             143.00  \n",
      "9       67.0    51.0       41.00   34.00       0.00             133.00  \n",
      "10      67.0    51.0       41.00   51.00     100.00             105.00  \n",
      "11      67.0    67.0       51.00   51.00       0.00             181.00  \n",
      "12      67.0    67.0       51.00   67.00     199.00             200.00  \n",
      "13     101.0    81.0       51.00   67.00     199.00             285.00  \n",
      "14     101.0   101.0       67.00  101.00     298.00             304.00  \n",
      "15     101.0   101.0      101.00  101.00       0.00             703.00  \n",
      "16     101.0   126.0      101.00  101.00       0.00             789.00  \n",
      "17     101.0   126.0      126.00  101.00     199.00             228.00  \n",
      "18     101.0   101.0      101.00  101.00     496.00             950.00  \n",
      "19     101.0   101.0      101.00  101.00     496.00             713.00  \n",
      "20     101.0   126.0       81.00  201.00     496.00             589.00  \n",
      "21     101.0   126.0      101.00  201.00     496.00             694.00  \n",
      "22     101.0   126.0      101.00  101.00     496.00             950.00  \n",
      "23     101.0   151.0      151.00  101.00       0.00             903.00  \n",
      "24     101.0   151.0      101.00  101.00     496.00             950.00  \n",
      "25     101.0   151.0      176.00  101.00     496.00             950.00  \n",
      "26     101.0   151.0      126.00    0.00     496.00             950.00  \n"
     ]
    }
   ],
   "source": [
    "print(X)"
   ]
  },
  {
   "cell_type": "code",
   "execution_count": 350,
   "metadata": {},
   "outputs": [
    {
     "name": "stdout",
     "output_type": "stream",
     "text": [
      "0      1.0\n",
      "1      2.0\n",
      "2      3.0\n",
      "3      4.0\n",
      "4      5.0\n",
      "5      6.0\n",
      "6      7.0\n",
      "7      8.0\n",
      "8      9.0\n",
      "9     10.0\n",
      "10    11.0\n",
      "11    12.0\n",
      "12    13.0\n",
      "13    14.0\n",
      "14    15.0\n",
      "15    16.0\n",
      "16    17.0\n",
      "17    18.0\n",
      "18    19.0\n",
      "19    20.0\n",
      "20    21.0\n",
      "21    22.0\n",
      "22    23.0\n",
      "23    24.0\n",
      "24    25.0\n",
      "25    26.0\n",
      "26    27.0\n",
      "Name: place_final, dtype: float64\n"
     ]
    }
   ],
   "source": [
    "print(y)"
   ]
  },
  {
   "cell_type": "code",
   "execution_count": 357,
   "metadata": {},
   "outputs": [
    {
     "data": {
      "text/html": [
       "<div>\n",
       "<style scoped>\n",
       "    .dataframe tbody tr th:only-of-type {\n",
       "        vertical-align: middle;\n",
       "    }\n",
       "\n",
       "    .dataframe tbody tr th {\n",
       "        vertical-align: top;\n",
       "    }\n",
       "\n",
       "    .dataframe thead th {\n",
       "        text-align: right;\n",
       "    }\n",
       "</style>\n",
       "<table border=\"1\" class=\"dataframe\">\n",
       "  <thead>\n",
       "    <tr style=\"text-align: right;\">\n",
       "      <th></th>\n",
       "      <th>BET365</th>\n",
       "      <th>UNIBET</th>\n",
       "      <th>YOU WIN</th>\n",
       "      <th>BOYLE SPORTS</th>\n",
       "      <th>CORAL</th>\n",
       "      <th>SKY BET</th>\n",
       "      <th>BET VICTOR</th>\n",
       "      <th>TITAN BET</th>\n",
       "      <th>PAF</th>\n",
       "      <th>BETFAIR SPORT</th>\n",
       "      <th>SPORTING BET</th>\n",
       "      <th>INTERTOPS</th>\n",
       "      <th>PADDY POWER</th>\n",
       "      <th>BET FRED</th>\n",
       "      <th>BETWAY</th>\n",
       "      <th>STAN JAMES</th>\n",
       "      <th>BWIN</th>\n",
       "      <th>MATCHBOOK</th>\n",
       "      <th>BETFAIR* EXCHANGE</th>\n",
       "    </tr>\n",
       "  </thead>\n",
       "  <tbody>\n",
       "    <tr>\n",
       "      <th>2</th>\n",
       "      <td>5.0</td>\n",
       "      <td>6.0</td>\n",
       "      <td>5.0</td>\n",
       "      <td>5.0</td>\n",
       "      <td>5.5</td>\n",
       "      <td>5.5</td>\n",
       "      <td>6.0</td>\n",
       "      <td>5.5</td>\n",
       "      <td>5.0</td>\n",
       "      <td>6.0</td>\n",
       "      <td>5.0</td>\n",
       "      <td>4.25</td>\n",
       "      <td>5.5</td>\n",
       "      <td>6.5</td>\n",
       "      <td>4.5</td>\n",
       "      <td>4.5</td>\n",
       "      <td>5.0</td>\n",
       "      <td>6.74</td>\n",
       "      <td>6.51</td>\n",
       "    </tr>\n",
       "    <tr>\n",
       "      <th>22</th>\n",
       "      <td>201.0</td>\n",
       "      <td>151.0</td>\n",
       "      <td>201.0</td>\n",
       "      <td>151.0</td>\n",
       "      <td>201.0</td>\n",
       "      <td>151.0</td>\n",
       "      <td>151.0</td>\n",
       "      <td>151.0</td>\n",
       "      <td>151.0</td>\n",
       "      <td>101.0</td>\n",
       "      <td>101.0</td>\n",
       "      <td>126.00</td>\n",
       "      <td>101.0</td>\n",
       "      <td>101.0</td>\n",
       "      <td>126.0</td>\n",
       "      <td>101.0</td>\n",
       "      <td>101.0</td>\n",
       "      <td>496.00</td>\n",
       "      <td>950.00</td>\n",
       "    </tr>\n",
       "    <tr>\n",
       "      <th>6</th>\n",
       "      <td>34.0</td>\n",
       "      <td>30.0</td>\n",
       "      <td>41.0</td>\n",
       "      <td>26.0</td>\n",
       "      <td>26.0</td>\n",
       "      <td>34.0</td>\n",
       "      <td>34.0</td>\n",
       "      <td>29.0</td>\n",
       "      <td>29.0</td>\n",
       "      <td>26.0</td>\n",
       "      <td>34.0</td>\n",
       "      <td>29.00</td>\n",
       "      <td>26.0</td>\n",
       "      <td>41.0</td>\n",
       "      <td>34.0</td>\n",
       "      <td>21.0</td>\n",
       "      <td>26.0</td>\n",
       "      <td>51.00</td>\n",
       "      <td>52.00</td>\n",
       "    </tr>\n",
       "    <tr>\n",
       "      <th>19</th>\n",
       "      <td>151.0</td>\n",
       "      <td>126.0</td>\n",
       "      <td>151.0</td>\n",
       "      <td>101.0</td>\n",
       "      <td>151.0</td>\n",
       "      <td>126.0</td>\n",
       "      <td>126.0</td>\n",
       "      <td>126.0</td>\n",
       "      <td>126.0</td>\n",
       "      <td>126.0</td>\n",
       "      <td>101.0</td>\n",
       "      <td>101.00</td>\n",
       "      <td>101.0</td>\n",
       "      <td>101.0</td>\n",
       "      <td>101.0</td>\n",
       "      <td>101.0</td>\n",
       "      <td>101.0</td>\n",
       "      <td>496.00</td>\n",
       "      <td>713.00</td>\n",
       "    </tr>\n",
       "    <tr>\n",
       "      <th>13</th>\n",
       "      <td>101.0</td>\n",
       "      <td>81.0</td>\n",
       "      <td>151.0</td>\n",
       "      <td>67.0</td>\n",
       "      <td>101.0</td>\n",
       "      <td>101.0</td>\n",
       "      <td>101.0</td>\n",
       "      <td>81.0</td>\n",
       "      <td>81.0</td>\n",
       "      <td>81.0</td>\n",
       "      <td>101.0</td>\n",
       "      <td>81.00</td>\n",
       "      <td>67.0</td>\n",
       "      <td>101.0</td>\n",
       "      <td>81.0</td>\n",
       "      <td>51.0</td>\n",
       "      <td>67.0</td>\n",
       "      <td>199.00</td>\n",
       "      <td>285.00</td>\n",
       "    </tr>\n",
       "  </tbody>\n",
       "</table>\n",
       "</div>"
      ],
      "text/plain": [
       "    BET365  UNIBET  YOU WIN  BOYLE SPORTS  CORAL  SKY BET  BET VICTOR  \\\n",
       "2      5.0     6.0      5.0           5.0    5.5      5.5         6.0   \n",
       "22   201.0   151.0    201.0         151.0  201.0    151.0       151.0   \n",
       "6     34.0    30.0     41.0          26.0   26.0     34.0        34.0   \n",
       "19   151.0   126.0    151.0         101.0  151.0    126.0       126.0   \n",
       "13   101.0    81.0    151.0          67.0  101.0    101.0       101.0   \n",
       "\n",
       "    TITAN BET    PAF  BETFAIR SPORT  SPORTING BET  INTERTOPS  PADDY POWER  \\\n",
       "2         5.5    5.0            6.0           5.0       4.25          5.5   \n",
       "22      151.0  151.0          101.0         101.0     126.00        101.0   \n",
       "6        29.0   29.0           26.0          34.0      29.00         26.0   \n",
       "19      126.0  126.0          126.0         101.0     101.00        101.0   \n",
       "13       81.0   81.0           81.0         101.0      81.00         67.0   \n",
       "\n",
       "    BET FRED  BETWAY  STAN JAMES   BWIN  MATCHBOOK  BETFAIR* EXCHANGE  \n",
       "2        6.5     4.5         4.5    5.0       6.74               6.51  \n",
       "22     101.0   126.0       101.0  101.0     496.00             950.00  \n",
       "6       41.0    34.0        21.0   26.0      51.00              52.00  \n",
       "19     101.0   101.0       101.0  101.0     496.00             713.00  \n",
       "13     101.0    81.0        51.0   67.0     199.00             285.00  "
      ]
     },
     "execution_count": 357,
     "metadata": {},
     "output_type": "execute_result"
    }
   ],
   "source": [
    "from sklearn.preprocessing import normalize #get the function needed to normalize our data.\n",
    "\n",
    "# Define X and y variables\n",
    "X = df_2.iloc[:, 0:20]\n",
    "y = df['place_final']\n",
    "\n",
    "X_train, X_test, y_train, y_test = train_test_split(X, y, test_size=0.3, random_state=1) #split the data, store it into different variables\n",
    "X_train.head() # Show the head of the trainingset with X-variables"
   ]
  },
  {
   "cell_type": "markdown",
   "metadata": {},
   "source": [
    "### <font color='green'>Random forest"
   ]
  },
  {
   "cell_type": "markdown",
   "metadata": {},
   "source": [
    "Now we can train the RF (Random Forest) algorithm. The random_state sets the randomness for the RF algorithm so we can predict on stable, randomly sorted data.\n",
    "\n",
    "The number of trees (n_estimators) is set to 100, which is the default number of trees we'll be using later on for the sklearn library.\n",
    "\n",
    "First, we're going to use the train dataset in order to train the algorithm. We train the data on the selected variables from the dataset to predict if a voice is from a male or female.\n"
   ]
  },
  {
   "cell_type": "code",
   "execution_count": 358,
   "metadata": {},
   "outputs": [],
   "source": [
    "import seaborn as sns\n",
    "import sklearn as sk\n",
    "import pandas as pd\n",
    "import matplotlib.pyplot as plt\n",
    "from sklearn.model_selection import train_test_split #We need this to split the data\n",
    "from sklearn.preprocessing import normalize # We need this to normalize our data\n",
    "from sklearn.ensemble import RandomForestClassifier # We need this to use the RF classifier\n",
    "from sklearn.metrics import confusion_matrix # We need this to make a confusion matrix\n",
    "from sklearn.metrics import classification_report # We need this to calculate the accuracy, precision and recall"
   ]
  },
  {
   "cell_type": "code",
   "execution_count": 398,
   "metadata": {},
   "outputs": [
    {
     "data": {
      "text/plain": [
       "RandomForestRegressor(bootstrap=True, ccp_alpha=0.0, criterion='mse',\n",
       "                      max_depth=None, max_features='auto', max_leaf_nodes=None,\n",
       "                      max_samples=None, min_impurity_decrease=0.0,\n",
       "                      min_impurity_split=None, min_samples_leaf=1,\n",
       "                      min_samples_split=2, min_weight_fraction_leaf=0.0,\n",
       "                      n_estimators=100, n_jobs=None, oob_score=False,\n",
       "                      random_state=1, verbose=0, warm_start=False)"
      ]
     },
     "execution_count": 398,
     "metadata": {},
     "output_type": "execute_result"
    }
   ],
   "source": [
    "from sklearn.ensemble import RandomForestRegressor\n",
    "\n",
    "# TRAINING THE MODEL\n",
    "rf = RandomForestRegressor(random_state=1, n_estimators=100) #RF is a random algorithm, so to get the same results we need to use random_state\n",
    "rf = rf.fit(X_train, y_train)\n",
    "rf"
   ]
  },
  {
   "cell_type": "markdown",
   "metadata": {},
   "source": [
    "### <font color='green'>Evaluating the RF model"
   ]
  },
  {
   "cell_type": "markdown",
   "metadata": {},
   "source": [
    "Before we use the test dataset, we're going to evaluate the model by a confusion matrix. With the confusion matrix we can calulcate the accuracy, precision and recall. "
   ]
  },
  {
   "cell_type": "markdown",
   "metadata": {},
   "source": [
    "https://scikit-learn.org/stable/modules/model_evaluation.html#regression-metrics\n",
    "https://medium.com/swlh/random-forest-and-its-implementation-71824ced454f"
   ]
  },
  {
   "cell_type": "code",
   "execution_count": 376,
   "metadata": {},
   "outputs": [
    {
     "name": "stdout",
     "output_type": "stream",
     "text": [
      "Explained variance score is 0.9723806047966632 The best possibtle score is 1.0, lower is worse.\n"
     ]
    }
   ],
   "source": [
    "from sklearn.metrics import explained_variance_score\n",
    "# EVS\n",
    "\n",
    "y_pred = rf.predict(X_test) #the predicted values\n",
    "evs = explained_variance_score(y_test, y_pred)\n",
    "# evs = pd.DataFrame(evs, index=['male (actual)', 'female (actual)'], columns = ['male (pred)', 'female (pred)']) #label and make df\n",
    "print('Explained variance score is', evs, 'The best possibtle score is 1.0, lower is worse.')"
   ]
  },
  {
   "cell_type": "code",
   "execution_count": 381,
   "metadata": {},
   "outputs": [
    {
     "name": "stdout",
     "output_type": "stream",
     "text": [
      "The max error is 2.379999999999999 The best possible score is 0. However, this is an unlikely number in the real world..\n"
     ]
    }
   ],
   "source": [
    "# MAX ERROR\n",
    "from sklearn.metrics import max_error\n",
    "max_err = max_error(y_test, y_pred)\n",
    "print('The max error is', max_err, 'The best possible score is 0. However, this is an unlikely number in the real world..')"
   ]
  },
  {
   "cell_type": "code",
   "execution_count": 382,
   "metadata": {},
   "outputs": [
    {
     "name": "stdout",
     "output_type": "stream",
     "text": [
      "The mean absolute error is 1.0544444444444443 The mean_absolute_error function computes mean absolute error, a risk metric corresponding to the expected value of the absolute error loss or -norm loss.\n"
     ]
    }
   ],
   "source": [
    "# MEAN ABSOLUTE ERROR\n",
    "from sklearn.metrics import mean_absolute_error\n",
    "mean_abs_err = mean_absolute_error(y_test, y_pred)\n",
    "print('The mean absolute error is', mean_abs_err, 'The mean_absolute_error function computes mean absolute error, a risk metric corresponding to the expected value of the absolute error loss or -norm loss.')"
   ]
  },
  {
   "cell_type": "code",
   "execution_count": 383,
   "metadata": {},
   "outputs": [
    {
     "name": "stdout",
     "output_type": "stream",
     "text": [
      "The mean squard error is 1.8409000000000002 The mean_squared_error function computes mean square error, a risk metric corresponding to the expected value of the squared (quadratic) error or loss.\n"
     ]
    }
   ],
   "source": [
    "# MEAN SQUARED ERROR\n",
    "from sklearn.metrics import mean_squared_error\n",
    "mse = mean_squared_error(y_test, y_pred)\n",
    "print('The mean squard error is', mse, 'The mean_squared_error function computes mean square error, a risk metric corresponding to the expected value of the squared (quadratic) error or loss.')"
   ]
  },
  {
   "cell_type": "code",
   "execution_count": 385,
   "metadata": {},
   "outputs": [
    {
     "name": "stdout",
     "output_type": "stream",
     "text": [
      "The mean squared logarithmic error is 0.0242895502423706 The mean_squared_log_error function computes a risk metric corresponding to the expected value of the squared logarithmic (quadratic) error or loss.\n"
     ]
    }
   ],
   "source": [
    "# MEAN SQUARED LOGARITHMIC ERROR\n",
    "from sklearn.metrics import mean_squared_log_error\n",
    "msel = mean_squared_log_error(y_test, y_pred)\n",
    "print('The mean squared logarithmic error is', msel, 'The mean_squared_log_error function computes a risk metric corresponding to the expected value of the squared logarithmic (quadratic) error or loss.')"
   ]
  },
  {
   "cell_type": "code",
   "execution_count": 388,
   "metadata": {},
   "outputs": [
    {
     "name": "stdout",
     "output_type": "stream",
     "text": [
      "The coefficent is 0.961128023983316 Best possible score is 1.0 and it can be negative (because the model can be arbitrarily worse). A constant model that always predicts the expected value of y, disregarding the input features, would get a score of 0.0.\n"
     ]
    }
   ],
   "source": [
    "# R2 SCORE\n",
    "from sklearn.metrics import r2_score\n",
    "r2 = r2_score(y_test, y_pred)\n",
    "print('The coefficent is', r2, 'Best possible score is 1.0 and it can be negative (because the model can be arbitrarily worse). A constant model that always predicts the expected value of y, disregarding the input features, would get a score of 0.0.')"
   ]
  },
  {
   "cell_type": "code",
   "execution_count": 415,
   "metadata": {},
   "outputs": [],
   "source": [
    "# Graph\n",
    "# X_grid = np.arrange(min(X_test), max(X_test), 0.01)\n",
    "# X_grid = X_grid.reshape((len(X_grid), 1))\n",
    "# plt.scatter(X_test, y_test, color='red')\n",
    "# plt.plot(X_grid, regressor.predict(X_grid, color='blue')\n",
    "# plt.title('Random forest test and predictons')\n",
    "# plt.xlabel('x')\n",
    "# plt.ylabel('y')\n",
    "# plt.show()"
   ]
  },
  {
   "cell_type": "markdown",
   "metadata": {},
   "source": [
    "- The **coefficient** is: 0.96, which is close to 1.00. \n",
    "- The **mean squared logarithmic error** is 0.024\n",
    "- The **mean squared error** is 1.84\n",
    "- The **mean absolute error** is 1.05\n",
    "- The **max error** is 2.37\n",
    "- The **explained variance score** is 0.97"
   ]
  },
  {
   "cell_type": "code",
   "execution_count": 389,
   "metadata": {},
   "outputs": [],
   "source": [
    "# from sklearn.metrics import classification_report\n",
    "# print(classification_report(y_test, y_pred))\n"
   ]
  },
  {
   "cell_type": "code",
   "execution_count": 368,
   "metadata": {},
   "outputs": [],
   "source": [
    "# from sklearn.metrics import confusion_matrix\n",
    "# y_pred = rf.predict(X_test) #the predicted values\n",
    "# cm = confusion_matrix(y_test, y_pred) #creates a \"confusion matrix\"\n",
    "# cm = pd.DataFrame(cm, index=['male (actual)', 'female (actual)'], columns = ['male (pred)', 'female (pred)']) #label and make df\n",
    "# cm"
   ]
  },
  {
   "cell_type": "markdown",
   "metadata": {},
   "source": [
    "### <font color='green'>Making use of probabilities"
   ]
  },
  {
   "cell_type": "markdown",
   "metadata": {},
   "source": [
    "We saw that recall is probably the most important measure in this case. We also saw that there is a trade-off between precision and recall. So can we improve recall at the expense of precision?\n",
    "\n",
    "Yes, it turns out we can. What actually happens \"under the hood\" of the algorithm, is that a probability is calculated. The algorithm then classifies cases according to this probability. The standard setting is to select the outcome with the highest probability. But, we can also work with the probabilities themselves.\n",
    "\n",
    "Let's get the probabilities using predict_proba. Note that I'm using the first RF model again.\n"
   ]
  },
  {
   "cell_type": "code",
   "execution_count": 392,
   "metadata": {},
   "outputs": [],
   "source": [
    "# y_pred_prob = rf.predict_proba(X_test) #Instead of classes, we now get the probabilities\n",
    "# y_pred_prob"
   ]
  },
  {
   "cell_type": "code",
   "execution_count": 395,
   "metadata": {},
   "outputs": [],
   "source": [
    "# sns.distplot(fraud_prob[fraud_prob > 0.01], bins=10, rug=True)\n",
    "# plt.xlim(0,1)\n",
    "# plt.xlabel(\"Probability of fraud\")\n",
    "# plt.ylabel(\"Count\")\n",
    "# plt.title(\"Credit card fraud predictions by Random Forest\")\n",
    "# plt.show()"
   ]
  },
  {
   "cell_type": "markdown",
   "metadata": {},
   "source": [
    "### <font color='orange'>K-nearest neighbor"
   ]
  },
  {
   "cell_type": "code",
   "execution_count": 397,
   "metadata": {},
   "outputs": [
    {
     "data": {
      "text/plain": [
       "0.7765484880083421"
      ]
     },
     "execution_count": 397,
     "metadata": {},
     "output_type": "execute_result"
    }
   ],
   "source": [
    "from sklearn.neighbors import KNeighborsRegressor #the object class we need\n",
    "\n",
    "knn = KNeighborsRegressor(n_neighbors=5) #create a KNN-classifier with 5 neighbors (default)\n",
    "knn = knn.fit(X_train, y_train) #this fits the k-nearest neigbor model with the train data\n",
    "knn.score(X_test, y_test) #calculate the fit on the test data"
   ]
  },
  {
   "cell_type": "markdown",
   "metadata": {},
   "source": [
    "We can predict 77% of the scores based on the odds given by bookmakers"
   ]
  },
  {
   "cell_type": "markdown",
   "metadata": {},
   "source": [
    "### <font color='red'> Linear regression\n",
    "    "
   ]
  },
  {
   "cell_type": "markdown",
   "metadata": {},
   "source": [
    "http://localhost:8888/notebooks/Documents/Data-Drvien%20Design%20Y1-2020/Fundamentals%20of%20Machine%20Learning/w4/exercises/bol_sales_sol.ipynb"
   ]
  },
  {
   "cell_type": "markdown",
   "metadata": {},
   "source": [
    "### Normalize log(odds)"
   ]
  },
  {
   "cell_type": "code",
   "execution_count": null,
   "metadata": {},
   "outputs": [],
   "source": []
  },
  {
   "cell_type": "code",
   "execution_count": null,
   "metadata": {},
   "outputs": [],
   "source": []
  },
  {
   "cell_type": "code",
   "execution_count": null,
   "metadata": {},
   "outputs": [],
   "source": [
    "model.classes_ # Distinct values that y takes"
   ]
  },
  {
   "cell_type": "code",
   "execution_count": null,
   "metadata": {},
   "outputs": [],
   "source": [
    "model.intercept_ # Get the slope"
   ]
  },
  {
   "cell_type": "code",
   "execution_count": null,
   "metadata": {},
   "outputs": [],
   "source": [
    "model.coef_ # Get the intercept"
   ]
  },
  {
   "cell_type": "code",
   "execution_count": null,
   "metadata": {},
   "outputs": [],
   "source": []
  },
  {
   "cell_type": "markdown",
   "metadata": {},
   "source": [
    "## 3. Evaluation\n",
    "\n"
   ]
  },
  {
   "cell_type": "code",
   "execution_count": null,
   "metadata": {},
   "outputs": [],
   "source": []
  },
  {
   "cell_type": "code",
   "execution_count": null,
   "metadata": {},
   "outputs": [],
   "source": []
  },
  {
   "cell_type": "code",
   "execution_count": null,
   "metadata": {},
   "outputs": [],
   "source": []
  }
 ],
 "metadata": {
  "kernelspec": {
   "display_name": "Python 3",
   "language": "python",
   "name": "python3"
  },
  "language_info": {
   "codemirror_mode": {
    "name": "ipython",
    "version": 3
   },
   "file_extension": ".py",
   "mimetype": "text/x-python",
   "name": "python",
   "nbconvert_exporter": "python",
   "pygments_lexer": "ipython3",
   "version": "3.7.6"
  }
 },
 "nbformat": 4,
 "nbformat_minor": 4
}
