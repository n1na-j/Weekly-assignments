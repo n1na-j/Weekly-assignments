{
 "cells": [
  {
   "cell_type": "markdown",
   "metadata": {},
   "source": [
    "# Text mining\n",
    "We're going to predict whether dresses are reviewed as positive (> 3 stars), neutral (3 stars) or negative (< 3 stars). "
   ]
  },
  {
   "cell_type": "markdown",
   "metadata": {},
   "source": [
    "## Method \n",
    "We're going to use the bag-of-words model and Naïve Bayes for this prediction. With the bag-of-words model, certain words which are related to a positive (> 3 stars), neutral (3 stars) or negative review (< 3 stars), are categorized into 3 groups. Therefore, each \"bag-of-words\" contains words categorized by one of the 3 catgories (positive/neutral/negative). For example, the bag labelled as 3 stars or more should mostly include positive reviews, while the bag with less than 3 stars should mostly include neutral or negative words. \n",
    "\n",
    "The Naïve Bayes classification will be used to predict whether a word belongs to the bag with less than 3 stars or belongs to the bag with more than 3 stars based on whether a word is positive, neutral or negative. \n"
   ]
  },
  {
   "cell_type": "code",
   "execution_count": 1,
   "metadata": {},
   "outputs": [],
   "source": [
    "# Import the important libraries\n",
    "import pandas as pd\n",
    "from sklearn.feature_extraction.text import CountVectorizer\n",
    "from sklearn.model_selection import train_test_split\n",
    "from sklearn.metrics import confusion_matrix\n",
    "from sklearn.naive_bayes import MultinomialNB"
   ]
  },
  {
   "cell_type": "markdown",
   "metadata": {},
   "source": [
    "## Pre-processing\n",
    "First, we're going to take a look at the data and generate a document-feature matrix filtered on dresses. "
   ]
  },
  {
   "cell_type": "code",
   "execution_count": 2,
   "metadata": {},
   "outputs": [
    {
     "data": {
      "text/html": [
       "<div>\n",
       "<style scoped>\n",
       "    .dataframe tbody tr th:only-of-type {\n",
       "        vertical-align: middle;\n",
       "    }\n",
       "\n",
       "    .dataframe tbody tr th {\n",
       "        vertical-align: top;\n",
       "    }\n",
       "\n",
       "    .dataframe thead th {\n",
       "        text-align: right;\n",
       "    }\n",
       "</style>\n",
       "<table border=\"1\" class=\"dataframe\">\n",
       "  <thead>\n",
       "    <tr style=\"text-align: right;\">\n",
       "      <th></th>\n",
       "      <th>Unnamed: 0</th>\n",
       "      <th>Clothing ID</th>\n",
       "      <th>Age</th>\n",
       "      <th>Title</th>\n",
       "      <th>Review Text</th>\n",
       "      <th>Rating</th>\n",
       "      <th>Recommended IND</th>\n",
       "      <th>Positive Feedback Count</th>\n",
       "      <th>Division Name</th>\n",
       "      <th>Department Name</th>\n",
       "      <th>Class Name</th>\n",
       "    </tr>\n",
       "  </thead>\n",
       "  <tbody>\n",
       "    <tr>\n",
       "      <th>1</th>\n",
       "      <td>1</td>\n",
       "      <td>1080</td>\n",
       "      <td>34</td>\n",
       "      <td>NaN</td>\n",
       "      <td>Love this dress!  it's sooo pretty.  i happene...</td>\n",
       "      <td>5</td>\n",
       "      <td>1</td>\n",
       "      <td>4</td>\n",
       "      <td>General</td>\n",
       "      <td>Dresses</td>\n",
       "      <td>Dresses</td>\n",
       "    </tr>\n",
       "    <tr>\n",
       "      <th>2</th>\n",
       "      <td>2</td>\n",
       "      <td>1077</td>\n",
       "      <td>60</td>\n",
       "      <td>Some major design flaws</td>\n",
       "      <td>I had such high hopes for this dress and reall...</td>\n",
       "      <td>3</td>\n",
       "      <td>0</td>\n",
       "      <td>0</td>\n",
       "      <td>General</td>\n",
       "      <td>Dresses</td>\n",
       "      <td>Dresses</td>\n",
       "    </tr>\n",
       "    <tr>\n",
       "      <th>5</th>\n",
       "      <td>5</td>\n",
       "      <td>1080</td>\n",
       "      <td>49</td>\n",
       "      <td>Not for the very petite</td>\n",
       "      <td>I love tracy reese dresses, but this one is no...</td>\n",
       "      <td>2</td>\n",
       "      <td>0</td>\n",
       "      <td>4</td>\n",
       "      <td>General</td>\n",
       "      <td>Dresses</td>\n",
       "      <td>Dresses</td>\n",
       "    </tr>\n",
       "    <tr>\n",
       "      <th>8</th>\n",
       "      <td>8</td>\n",
       "      <td>1077</td>\n",
       "      <td>24</td>\n",
       "      <td>Flattering</td>\n",
       "      <td>I love this dress. i usually get an xs but it ...</td>\n",
       "      <td>5</td>\n",
       "      <td>1</td>\n",
       "      <td>0</td>\n",
       "      <td>General</td>\n",
       "      <td>Dresses</td>\n",
       "      <td>Dresses</td>\n",
       "    </tr>\n",
       "    <tr>\n",
       "      <th>9</th>\n",
       "      <td>9</td>\n",
       "      <td>1077</td>\n",
       "      <td>34</td>\n",
       "      <td>Such a fun dress!</td>\n",
       "      <td>I'm 5\"5' and 125 lbs. i ordered the s petite t...</td>\n",
       "      <td>5</td>\n",
       "      <td>1</td>\n",
       "      <td>0</td>\n",
       "      <td>General</td>\n",
       "      <td>Dresses</td>\n",
       "      <td>Dresses</td>\n",
       "    </tr>\n",
       "  </tbody>\n",
       "</table>\n",
       "</div>"
      ],
      "text/plain": [
       "   Unnamed: 0  Clothing ID  Age                    Title  \\\n",
       "1           1         1080   34                      NaN   \n",
       "2           2         1077   60  Some major design flaws   \n",
       "5           5         1080   49  Not for the very petite   \n",
       "8           8         1077   24               Flattering   \n",
       "9           9         1077   34        Such a fun dress!   \n",
       "\n",
       "                                         Review Text  Rating  Recommended IND  \\\n",
       "1  Love this dress!  it's sooo pretty.  i happene...       5                1   \n",
       "2  I had such high hopes for this dress and reall...       3                0   \n",
       "5  I love tracy reese dresses, but this one is no...       2                0   \n",
       "8  I love this dress. i usually get an xs but it ...       5                1   \n",
       "9  I'm 5\"5' and 125 lbs. i ordered the s petite t...       5                1   \n",
       "\n",
       "   Positive Feedback Count Division Name Department Name Class Name  \n",
       "1                        4       General         Dresses    Dresses  \n",
       "2                        0       General         Dresses    Dresses  \n",
       "5                        4       General         Dresses    Dresses  \n",
       "8                        0       General         Dresses    Dresses  \n",
       "9                        0       General         Dresses    Dresses  "
      ]
     },
     "execution_count": 2,
     "metadata": {},
     "output_type": "execute_result"
    }
   ],
   "source": [
    "# Show the data\n",
    "df = pd.read_csv('Assignment text mining - data clothing reviews.csv')\n",
    "# Filter by dresses\n",
    "df = df.loc[(df['Class Name'] == 'Dresses')]\n",
    "# Remove NaN\n",
    "df.dropna()\n",
    "df.head()"
   ]
  },
  {
   "cell_type": "code",
   "execution_count": 3,
   "metadata": {},
   "outputs": [],
   "source": [
    "# Categorize the ratings by negative (1-3), neutral (3) and positive (4-5). Here we actually create the \"bags\"\n",
    "\n",
    "def rating (score):\n",
    "    if (score > 3):\n",
    "        return \"positive rating\"\n",
    "    elif (score < 3):\n",
    "        return \"negative rating\"      \n",
    "    else: \n",
    "        return \"neutral\""
   ]
  },
  {
   "cell_type": "code",
   "execution_count": 4,
   "metadata": {},
   "outputs": [],
   "source": [
    "df[\"Rating\"] = df[\"Rating\"].apply(rating)"
   ]
  },
  {
   "cell_type": "code",
   "execution_count": 5,
   "metadata": {},
   "outputs": [
    {
     "data": {
      "text/html": [
       "<div>\n",
       "<style scoped>\n",
       "    .dataframe tbody tr th:only-of-type {\n",
       "        vertical-align: middle;\n",
       "    }\n",
       "\n",
       "    .dataframe tbody tr th {\n",
       "        vertical-align: top;\n",
       "    }\n",
       "\n",
       "    .dataframe thead th {\n",
       "        text-align: right;\n",
       "    }\n",
       "</style>\n",
       "<table border=\"1\" class=\"dataframe\">\n",
       "  <thead>\n",
       "    <tr style=\"text-align: right;\">\n",
       "      <th></th>\n",
       "      <th>Review Text</th>\n",
       "      <th>Rating</th>\n",
       "    </tr>\n",
       "  </thead>\n",
       "  <tbody>\n",
       "    <tr>\n",
       "      <th>1</th>\n",
       "      <td>Love this dress!  it's sooo pretty.  i happene...</td>\n",
       "      <td>positive rating</td>\n",
       "    </tr>\n",
       "    <tr>\n",
       "      <th>2</th>\n",
       "      <td>I had such high hopes for this dress and reall...</td>\n",
       "      <td>neutral</td>\n",
       "    </tr>\n",
       "    <tr>\n",
       "      <th>5</th>\n",
       "      <td>I love tracy reese dresses, but this one is no...</td>\n",
       "      <td>negative rating</td>\n",
       "    </tr>\n",
       "    <tr>\n",
       "      <th>8</th>\n",
       "      <td>I love this dress. i usually get an xs but it ...</td>\n",
       "      <td>positive rating</td>\n",
       "    </tr>\n",
       "    <tr>\n",
       "      <th>9</th>\n",
       "      <td>I'm 5\"5' and 125 lbs. i ordered the s petite t...</td>\n",
       "      <td>positive rating</td>\n",
       "    </tr>\n",
       "  </tbody>\n",
       "</table>\n",
       "</div>"
      ],
      "text/plain": [
       "                                         Review Text           Rating\n",
       "1  Love this dress!  it's sooo pretty.  i happene...  positive rating\n",
       "2  I had such high hopes for this dress and reall...          neutral\n",
       "5  I love tracy reese dresses, but this one is no...  negative rating\n",
       "8  I love this dress. i usually get an xs but it ...  positive rating\n",
       "9  I'm 5\"5' and 125 lbs. i ordered the s petite t...  positive rating"
      ]
     },
     "execution_count": 5,
     "metadata": {},
     "output_type": "execute_result"
    }
   ],
   "source": [
    "# Generate the document-feature matrix\n",
    "df = df[['Review Text', 'Rating']]\n",
    "text = df['Review Text'].values.astype('U') #Taking the review text from the df. We need to convert it to Unicode\n",
    "vect = CountVectorizer(stop_words='english') #Create the CV object, with English stop words\n",
    "vect = vect.fit(text) #We fit the model with the words from the review text\n",
    "docu_feat = vect.transform(text) # make a matrix\n",
    "df.head()"
   ]
  },
  {
   "cell_type": "code",
   "execution_count": 24,
   "metadata": {},
   "outputs": [
    {
     "data": {
      "text/plain": [
       "positive rating    4792\n",
       "neutral             838\n",
       "negative rating     689\n",
       "Name: Rating, dtype: int64"
      ]
     },
     "execution_count": 24,
     "metadata": {},
     "output_type": "execute_result"
    }
   ],
   "source": [
    "# Show values\n",
    "df['Rating'].value_counts()"
   ]
  },
  {
   "cell_type": "markdown",
   "metadata": {},
   "source": [
    "## Document feature matrix\n",
    "Before we can start to build the model, we need to create a document feature matrix. "
   ]
  },
  {
   "cell_type": "code",
   "execution_count": 25,
   "metadata": {},
   "outputs": [
    {
     "name": "stdout",
     "output_type": "stream",
     "text": [
      "There are 8080 words in the vocabulary. A selection: ['airier', 'airiness', 'airism', 'airline', 'airplane', 'airplanes', 'airport', 'airy', 'aize', 'aka', 'akward', 'al', 'alas', 'albeit', 'alerations', 'alert', 'alexandria', 'align', 'aligned', 'alignment']\n"
     ]
    }
   ],
   "source": [
    "# Converting the text to unicode and save as NumpyArray\n",
    "text = df['Review Text'].values.astype('U')\n",
    "# Create the object CountVectorizer with English stop words\n",
    "vect = CountVectorizer(stop_words=\"english\")\n",
    "# Fit the text into the CountVectorizer Object\n",
    "vect = vect.fit(text)\n",
    "# Get the words from the dictionary of words \n",
    "feature_names = vect.get_feature_names()\n",
    "print(f\"There are {len(feature_names)} words in the vocabulary. A selection: {feature_names[500:520]}\")"
   ]
  },
  {
   "cell_type": "code",
   "execution_count": 26,
   "metadata": {},
   "outputs": [
    {
     "name": "stdout",
     "output_type": "stream",
     "text": [
      "  (0, 855)\t2\n",
      "  (0, 1080)\t1\n",
      "  (0, 2124)\t1\n",
      "  (0, 2216)\t1\n",
      "  (0, 2405)\t1\n",
      "  (0, 3258)\t1\n",
      "  (0, 3436)\t1\n",
      "  (0, 3569)\t1\n",
      "  (0, 3969)\t1\n",
      "  (0, 4015)\t1\n",
      "  (0, 4156)\t1\n",
      "  (0, 4248)\t1\n",
      "  (0, 4311)\t2\n",
      "  (0, 4544)\t1\n",
      "  (0, 4922)\t1\n",
      "  (0, 4969)\t1\n",
      "  (0, 5215)\t3\n",
      "  (0, 5489)\t1\n",
      "  (0, 6636)\t1\n",
      "  (0, 6828)\t1\n",
      "  (0, 7438)\t1\n",
      "  (0, 7440)\t1\n",
      "  (1, 1421)\t1\n",
      "  (1, 1666)\t1\n",
      "  (1, 2177)\t1\n",
      "  :\t:\n",
      "  (6317, 4834)\t1\n",
      "  (6317, 5190)\t1\n",
      "  (6317, 5193)\t1\n",
      "  (6317, 6388)\t1\n",
      "  (6317, 6685)\t1\n",
      "  (6317, 6975)\t1\n",
      "  (6317, 7096)\t1\n",
      "  (6317, 7102)\t1\n",
      "  (6317, 7589)\t1\n",
      "  (6317, 7752)\t1\n",
      "  (6317, 7771)\t1\n",
      "  (6317, 7811)\t1\n",
      "  (6317, 7829)\t1\n",
      "  (6317, 7982)\t1\n",
      "  (6318, 1670)\t1\n",
      "  (6318, 2405)\t1\n",
      "  (6318, 2482)\t1\n",
      "  (6318, 2868)\t1\n",
      "  (6318, 2919)\t1\n",
      "  (6318, 3552)\t1\n",
      "  (6318, 4316)\t1\n",
      "  (6318, 5193)\t1\n",
      "  (6318, 5316)\t1\n",
      "  (6318, 5741)\t1\n",
      "  (6318, 7815)\t1\n"
     ]
    }
   ],
   "source": [
    "docu_feat = vect.transform(text) #The transform method from the CountVectorizer object creates the matrix\n",
    "print(docu_feat)"
   ]
  },
  {
   "cell_type": "code",
   "execution_count": 27,
   "metadata": {},
   "outputs": [
    {
     "data": {
      "text/plain": [
       "<6319x8080 sparse matrix of type '<class 'numpy.int64'>'\n",
       "\twith 154583 stored elements in Compressed Sparse Row format>"
      ]
     },
     "execution_count": 27,
     "metadata": {},
     "output_type": "execute_result"
    }
   ],
   "source": [
    "docu_feat"
   ]
  },
  {
   "cell_type": "markdown",
   "metadata": {},
   "source": [
    "## Building the model \n",
    "Now, we're going to use the Naïve Bayes classifier from sklearn and split the dataset into a train and test set. We use rating as y-variable and docu_feat as x-variable."
   ]
  },
  {
   "cell_type": "code",
   "execution_count": 30,
   "metadata": {},
   "outputs": [],
   "source": [
    "X = docu_feat #the document-feature matrix is the X matrix\n",
    "y = df['Rating'] #creating the y vector\n",
    "\n",
    "X_train, X_test, y_train, y_test = train_test_split(X, y, test_size=0.3, random_state = 1) #split the data and store it\n",
    "\n",
    "nb = nb.fit(X_train, y_train) #fit the model X=features, y=character"
   ]
  },
  {
   "cell_type": "markdown",
   "metadata": {},
   "source": [
    "## Evaluating the model"
   ]
  },
  {
   "cell_type": "markdown",
   "metadata": {},
   "source": [
    "Let's look if our model predicts well enough"
   ]
  },
  {
   "cell_type": "code",
   "execution_count": 32,
   "metadata": {},
   "outputs": [
    {
     "data": {
      "text/plain": [
       "0.7916666666666666"
      ]
     },
     "execution_count": 32,
     "metadata": {},
     "output_type": "execute_result"
    }
   ],
   "source": [
    "#Evaluate the model\n",
    "y_test_p = nb.predict(X_test)\n",
    "nb.score(X_test, y_test)"
   ]
  },
  {
   "cell_type": "markdown",
   "metadata": {},
   "source": [
    "An accuracy of 79.16% seems quite good."
   ]
  },
  {
   "cell_type": "code",
   "execution_count": 34,
   "metadata": {
    "scrolled": true
   },
   "outputs": [
    {
     "data": {
      "text/plain": [
       "positive rating    4792\n",
       "neutral             838\n",
       "negative rating     689\n",
       "Name: Rating, dtype: int64"
      ]
     },
     "execution_count": 34,
     "metadata": {},
     "output_type": "execute_result"
    }
   ],
   "source": [
    "# Show values\n",
    "df['Rating'].value_counts()"
   ]
  },
  {
   "cell_type": "code",
   "execution_count": 37,
   "metadata": {},
   "outputs": [
    {
     "data": {
      "text/plain": [
       "array(['negative rating', 'neutral', 'positive rating'], dtype='<U15')"
      ]
     },
     "execution_count": 37,
     "metadata": {},
     "output_type": "execute_result"
    }
   ],
   "source": [
    "# Show by class\n",
    "nb.classes_"
   ]
  },
  {
   "cell_type": "code",
   "execution_count": 38,
   "metadata": {},
   "outputs": [
    {
     "data": {
      "text/html": [
       "<div>\n",
       "<style scoped>\n",
       "    .dataframe tbody tr th:only-of-type {\n",
       "        vertical-align: middle;\n",
       "    }\n",
       "\n",
       "    .dataframe tbody tr th {\n",
       "        vertical-align: top;\n",
       "    }\n",
       "\n",
       "    .dataframe thead th {\n",
       "        text-align: right;\n",
       "    }\n",
       "</style>\n",
       "<table border=\"1\" class=\"dataframe\">\n",
       "  <thead>\n",
       "    <tr style=\"text-align: right;\">\n",
       "      <th></th>\n",
       "      <th>Negative rating (prediction)</th>\n",
       "      <th>Neutral rating (prediction)</th>\n",
       "      <th>Positive rating (prediction)</th>\n",
       "    </tr>\n",
       "  </thead>\n",
       "  <tbody>\n",
       "    <tr>\n",
       "      <th>Negative rating (actual)</th>\n",
       "      <td>62</td>\n",
       "      <td>35</td>\n",
       "      <td>107</td>\n",
       "    </tr>\n",
       "    <tr>\n",
       "      <th>Neutral rating (actual)</th>\n",
       "      <td>28</td>\n",
       "      <td>49</td>\n",
       "      <td>183</td>\n",
       "    </tr>\n",
       "    <tr>\n",
       "      <th>Positive rating (actual)</th>\n",
       "      <td>13</td>\n",
       "      <td>29</td>\n",
       "      <td>1390</td>\n",
       "    </tr>\n",
       "  </tbody>\n",
       "</table>\n",
       "</div>"
      ],
      "text/plain": [
       "                          Negative rating (prediction)  \\\n",
       "Negative rating (actual)                            62   \n",
       "Neutral rating (actual)                             28   \n",
       "Positive rating (actual)                            13   \n",
       "\n",
       "                          Neutral rating (prediction)  \\\n",
       "Negative rating (actual)                           35   \n",
       "Neutral rating (actual)                            49   \n",
       "Positive rating (actual)                           29   \n",
       "\n",
       "                          Positive rating (prediction)  \n",
       "Negative rating (actual)                           107  \n",
       "Neutral rating (actual)                            183  \n",
       "Positive rating (actual)                          1390  "
      ]
     },
     "execution_count": 38,
     "metadata": {},
     "output_type": "execute_result"
    }
   ],
   "source": [
    "cm = confusion_matrix(y_test, y_test_p)\n",
    "cm = pd.DataFrame(cm, index=['Negative rating (actual)', 'Neutral rating (actual)', 'Positive rating (actual)'], columns=['Negative rating (prediction)', 'Neutral rating (prediction)', 'Positive rating (prediction)'])\n",
    "cm"
   ]
  },
  {
   "cell_type": "code",
   "execution_count": 39,
   "metadata": {},
   "outputs": [
    {
     "name": "stdout",
     "output_type": "stream",
     "text": [
      "                 precision    recall  f1-score   support\n",
      "\n",
      "negative rating       0.60      0.30      0.40       204\n",
      "        neutral       0.43      0.19      0.26       260\n",
      "positive rating       0.83      0.97      0.89      1432\n",
      "\n",
      "       accuracy                           0.79      1896\n",
      "      macro avg       0.62      0.49      0.52      1896\n",
      "   weighted avg       0.75      0.79      0.75      1896\n",
      "\n"
     ]
    }
   ],
   "source": [
    "# Use the built-in function classificiation_report to generate the precision, recall and accuracy\n",
    "from sklearn.metrics import classification_report\n",
    "print(classification_report(y_test, y_test_p))"
   ]
  },
  {
   "cell_type": "markdown",
   "metadata": {},
   "source": [
    "The accuracy of the whole prediction is 79%. According to the precision and recall, it seems that a positive rating can be better predicted than neutral or a negative rating. The neutral rating seems to be the hardest to predict. This seems logical because \"neutral\" is not a very clear category.  "
   ]
  },
  {
   "cell_type": "markdown",
   "metadata": {},
   "source": [
    "##  Finding off targets"
   ]
  },
  {
   "cell_type": "markdown",
   "metadata": {},
   "source": [
    "Let's take a look at 3 cases which are not predicted correctly. "
   ]
  },
  {
   "cell_type": "code",
   "execution_count": 50,
   "metadata": {},
   "outputs": [
    {
     "data": {
      "text/html": [
       "<div>\n",
       "<style scoped>\n",
       "    .dataframe tbody tr th:only-of-type {\n",
       "        vertical-align: middle;\n",
       "    }\n",
       "\n",
       "    .dataframe tbody tr th {\n",
       "        vertical-align: top;\n",
       "    }\n",
       "\n",
       "    .dataframe thead th {\n",
       "        text-align: right;\n",
       "    }\n",
       "</style>\n",
       "<table border=\"1\" class=\"dataframe\">\n",
       "  <thead>\n",
       "    <tr style=\"text-align: right;\">\n",
       "      <th></th>\n",
       "      <th>Review Text</th>\n",
       "      <th>Rating</th>\n",
       "      <th>Rating_Prediction</th>\n",
       "    </tr>\n",
       "  </thead>\n",
       "  <tbody>\n",
       "    <tr>\n",
       "      <th>5</th>\n",
       "      <td>I love tracy reese dresses, but this one is no...</td>\n",
       "      <td>negative rating</td>\n",
       "      <td>positive rating</td>\n",
       "    </tr>\n",
       "    <tr>\n",
       "      <th>10</th>\n",
       "      <td>Dress runs small esp where the zipper area run...</td>\n",
       "      <td>neutral</td>\n",
       "      <td>negative rating</td>\n",
       "    </tr>\n",
       "    <tr>\n",
       "      <th>23</th>\n",
       "      <td>Cute little dress fits tts. it is a little hig...</td>\n",
       "      <td>neutral</td>\n",
       "      <td>positive rating</td>\n",
       "    </tr>\n",
       "    <tr>\n",
       "      <th>52</th>\n",
       "      <td>Love the color and style, but material snags e...</td>\n",
       "      <td>neutral</td>\n",
       "      <td>positive rating</td>\n",
       "    </tr>\n",
       "    <tr>\n",
       "      <th>69</th>\n",
       "      <td>I really wanted this to work. alas, it had a s...</td>\n",
       "      <td>neutral</td>\n",
       "      <td>positive rating</td>\n",
       "    </tr>\n",
       "    <tr>\n",
       "      <th>194</th>\n",
       "      <td>Dress ran very large in every way. beautiful d...</td>\n",
       "      <td>neutral</td>\n",
       "      <td>positive rating</td>\n",
       "    </tr>\n",
       "    <tr>\n",
       "      <th>311</th>\n",
       "      <td>Looks beautiful online but has too much materi...</td>\n",
       "      <td>neutral</td>\n",
       "      <td>positive rating</td>\n",
       "    </tr>\n",
       "    <tr>\n",
       "      <th>381</th>\n",
       "      <td>Disappointed in the quality of the dress. love...</td>\n",
       "      <td>neutral</td>\n",
       "      <td>positive rating</td>\n",
       "    </tr>\n",
       "    <tr>\n",
       "      <th>383</th>\n",
       "      <td>This dress is not what i expected. the bottom ...</td>\n",
       "      <td>neutral</td>\n",
       "      <td>positive rating</td>\n",
       "    </tr>\n",
       "    <tr>\n",
       "      <th>406</th>\n",
       "      <td>I got this dress in hopes of having a really n...</td>\n",
       "      <td>neutral</td>\n",
       "      <td>positive rating</td>\n",
       "    </tr>\n",
       "  </tbody>\n",
       "</table>\n",
       "</div>"
      ],
      "text/plain": [
       "                                           Review Text           Rating  \\\n",
       "5    I love tracy reese dresses, but this one is no...  negative rating   \n",
       "10   Dress runs small esp where the zipper area run...          neutral   \n",
       "23   Cute little dress fits tts. it is a little hig...          neutral   \n",
       "52   Love the color and style, but material snags e...          neutral   \n",
       "69   I really wanted this to work. alas, it had a s...          neutral   \n",
       "194  Dress ran very large in every way. beautiful d...          neutral   \n",
       "311  Looks beautiful online but has too much materi...          neutral   \n",
       "381  Disappointed in the quality of the dress. love...          neutral   \n",
       "383  This dress is not what i expected. the bottom ...          neutral   \n",
       "406  I got this dress in hopes of having a really n...          neutral   \n",
       "\n",
       "    Rating_Prediction  \n",
       "5     positive rating  \n",
       "10    negative rating  \n",
       "23    positive rating  \n",
       "52    positive rating  \n",
       "69    positive rating  \n",
       "194   positive rating  \n",
       "311   positive rating  \n",
       "381   positive rating  \n",
       "383   positive rating  \n",
       "406   positive rating  "
      ]
     },
     "execution_count": 50,
     "metadata": {},
     "output_type": "execute_result"
    }
   ],
   "source": [
    "df[\"Rating_Prediction\"] = nb.predict(X)\n",
    "df_contradictions = df[df[\"Rating\"] != df[\"Rating_Prediction\"]]\n",
    "df_contradictions.head(10)"
   ]
  },
  {
   "cell_type": "markdown",
   "metadata": {},
   "source": [
    "It seems that some words are categorized as positive/negative while the review tells actually something else. For example, the word \"cute\" in review nr. 23 is positive, so the predicted rating is positive, while the actual rating is neutral. Also \"beautiful\" in review 311 is categorized as positive, while also in this case, the actual rating is neutral. This also counts for \"love\" in the first review. This review is negative, but predicted as positive. "
   ]
  }
 ],
 "metadata": {
  "kernelspec": {
   "display_name": "Python 3",
   "language": "python",
   "name": "python3"
  },
  "language_info": {
   "codemirror_mode": {
    "name": "ipython",
    "version": 3
   },
   "file_extension": ".py",
   "mimetype": "text/x-python",
   "name": "python",
   "nbconvert_exporter": "python",
   "pygments_lexer": "ipython3",
   "version": "3.7.6"
  }
 },
 "nbformat": 4,
 "nbformat_minor": 4
}
